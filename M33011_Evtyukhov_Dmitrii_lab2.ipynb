{
  "cells": [
    {
      "cell_type": "code",
      "execution_count": null,
      "metadata": {
        "colab": {
          "base_uri": "https://localhost:8080/"
        },
        "id": "bZ7J0si68JdT",
        "outputId": "9dc8ba6d-ff41-4b80-dfac-7e6de1d0aac9"
      },
      "outputs": [
        {
          "output_type": "stream",
          "name": "stdout",
          "text": [
            "Downloading...\n",
            "From: https://drive.google.com/uc?id=1lEpoRKczv5EvZhff9O2I-0JkdHnbe_Mq\n",
            "To: /content/transactions.csv\n",
            "100% 314M/314M [00:03<00:00, 81.8MB/s]\n",
            "Downloading...\n",
            "From: https://drive.google.com/uc?id=1EP3KrATWS1I_qYdpRhYnSDl-eoBiOBQc\n",
            "To: /content/tr_types.csv\n",
            "100% 14.2k/14.2k [00:00<00:00, 11.1MB/s]\n",
            "Downloading...\n",
            "From: https://drive.google.com/uc?id=10J8RzMIhoYHiad49r-oWNMAk-V5lo3OE\n",
            "To: /content/tr_mcc_codes.csv\n",
            "100% 14.9k/14.9k [00:00<00:00, 14.9MB/s]\n",
            "Downloading...\n",
            "From: https://drive.google.com/uc?id=1FG1fopcmvMZ7GBaBOqQipccSeFoMUvNT\n",
            "To: /content/gender_train.csv\n",
            "100% 99.9k/99.9k [00:00<00:00, 48.0MB/s]\n"
          ]
        }
      ],
      "source": [
        "import pandas as pd\n",
        "import numpy as np\n",
        "\n",
        "!gdown 1lEpoRKczv5EvZhff9O2I-0JkdHnbe_Mq\n",
        "!gdown 1EP3KrATWS1I_qYdpRhYnSDl-eoBiOBQc\n",
        "!gdown 10J8RzMIhoYHiad49r-oWNMAk-V5lo3OE\n",
        "!gdown 1FG1fopcmvMZ7GBaBOqQipccSeFoMUvNT\n",
        "\n"
      ]
    },
    {
      "cell_type": "code",
      "execution_count": null,
      "metadata": {
        "id": "eP7Nk9gAxopy"
      },
      "outputs": [],
      "source": [
        "transactions = pd.read_csv(\"/content/transactions.csv\", nrows=1000000)\n",
        "tr_mcc_codes = pd.read_csv(\"/content/tr_mcc_codes.csv\", sep=\";\")\n",
        "tr_types = pd.read_csv(\"/content/tr_types.csv\", sep=\";\")\n",
        "gender_train = pd.read_csv(\"/content/gender_train.csv\")"
      ]
    },
    {
      "cell_type": "markdown",
      "metadata": {
        "id": "xjvL0IIG8Jd0"
      },
      "source": [
        "## Задание 0\n"
      ]
    },
    {
      "cell_type": "markdown",
      "metadata": {
        "id": "yaSxXHvxO0qo"
      },
      "source": [
        "Для всех  заданий будем использовать обезличенные транзакционные банковские данные. Для этого считайте в переменные **tr_mcc_codes, tr_types, transactions и gender_train** из одноимённых таблиц из папки [data](https://drive.google.com/drive/folders/1YAMe7MiTxA-RSSd8Ex2p-L0Dspe6Gs4L). \n",
        "\n",
        "Для таблицы transactions используйте только первые n=1000000 строк. При чтении файлов обратите внимание на разделители внутри каждого из файлов - они могут различаться!"
      ]
    },
    {
      "cell_type": "markdown",
      "metadata": {
        "id": "oP3lX9xC8Jd8"
      },
      "source": [
        "###  Описание данных\n",
        "#### Таблица ```transactions.csv```\n",
        "##### Описание\n",
        "Таблица содержит историю транзакций клиентов банка за один год и три месяца.\n",
        "\n",
        "##### Формат данных\n",
        "\n",
        "```\n",
        "customer_id,tr_datetime,mcc_code,tr_type,amount,term_id\n",
        "111111,15 01:40:52,1111,1000,-5224,111111\n",
        "111112,15 15:18:32,3333,2000,-100,11122233\n",
        "...\n",
        "```\n",
        "##### Описание полей\n",
        "\n",
        " - ```customer_id``` — идентификатор клиента;\n",
        " - ```tr_datetime``` — день и время совершения транзакции (дни нумеруются с начала данных);\n",
        " - ```mcc_code``` — mcc-код транзакции;\n",
        " - ```tr_type``` — тип транзакции;\n",
        " - ```amount``` — сумма транзакции в условных единицах со знаком; ```+``` — начисление средств клиенту (приходная транзакция), ```-``` — списание средств (расходная транзакция);\n",
        " - ```term_id``` — идентификатор терминала;\n",
        "\n",
        "\n",
        "#### Таблица ```gender_train.csv```\n",
        "\n",
        "##### Описание\n",
        "Данная таблица содержит информацию по полу для части клиентов, для которых он известен. Для остальных клиентов пол неизвестен.\n",
        "\n",
        "##### Формат данных\n",
        "```\n",
        "customer_id,gender\n",
        "111111,0\n",
        "111112,1\n",
        "...\n",
        "```\n",
        "\n",
        "##### Описание полей\n",
        " - ```customer_id``` — идентификатор клиента;\n",
        " - ```gender``` — пол клиента;\n",
        "\n",
        "### Таблица ```tr_mcc_codes.csv```\n",
        "\n",
        "##### Описание\n",
        "Данная таблица содержит описание mcc-кодов транзакций.\n",
        "\n",
        "##### Формат данных\n",
        "```\n",
        "mcc_code;mcc_description\n",
        "1000;словесное описание mcc-кода 1000\n",
        "2000;словесное описание mcc-кода 2000\n",
        "...\n",
        "```\n",
        "\n",
        "##### Описание полей\n",
        " - ```mcc_code``` – mcc-код транзакции;\n",
        " - ```mcc_description``` — описание mcc-кода транзакции.\n",
        "\n",
        "#### Таблица ```tr_types.csv```\n",
        "\n",
        "##### Описание\n",
        "Данная таблица содержит описание типов транзакций.\n",
        "\n",
        "##### Формат данных\n",
        "```\n",
        "tr_type;tr_description\n",
        "1000;словесное описание типа транзакции 1000\n",
        "2000;словесное описание типа транзакции 2000\n",
        "...\n",
        "```\n",
        "\n",
        "##### Описание полей\n",
        " - ```tr_type``` – тип транзакции;\n",
        " - ```tr_description``` — описание типа транзакции;"
      ]
    },
    {
      "cell_type": "markdown",
      "metadata": {
        "id": "04CYsBKz8JeB"
      },
      "source": [
        "\n",
        "Задания 1-4 делаются без использования merge!\n",
        "\n",
        "## Задание 1\n",
        "\n"
      ]
    },
    {
      "cell_type": "markdown",
      "metadata": {
        "id": "1hcrfwsYN_Yz"
      },
      "source": [
        "1. Для столбца tr_type датафрейма transactions выберите произвольные 1000 строк с помощью метода sample\n",
        "2. В полученной на предыдущем этапе подвыборке найдите долю транзакций (стобец tr_description в датасете tr_types), в которой содержится подстрока 'POS' или 'ATM'\n"
      ]
    },
    {
      "cell_type": "code",
      "execution_count": null,
      "metadata": {
        "colab": {
          "base_uri": "https://localhost:8080/"
        },
        "id": "LOOKy_ZFzMdL",
        "outputId": "636fda8a-30b6-40dc-e9b6-a4a7a65974f8"
      },
      "outputs": [
        {
          "output_type": "stream",
          "name": "stdout",
          "text": [
            "First task: \n",
            "\n",
            "247287    1110\n",
            "868384    1110\n",
            "27817     1110\n",
            "271285    1110\n",
            "2240      1010\n",
            "          ... \n",
            "371937    7070\n",
            "65892     2370\n",
            "393854    7070\n",
            "199751    1110\n",
            "602632    1010\n",
            "Name: tr_type, Length: 1000, dtype: int64 \n",
            "\n",
            "Second task: \n",
            "\n",
            "0.386 \n",
            "\n"
          ]
        }
      ],
      "source": [
        "tr_type_sample = transactions.sample(1000)\n",
        "print(\"First task:\", \"\\n\")\n",
        "print(tr_type_sample[\"tr_type\"], \"\\n\")\n",
        "\n",
        "print(\"Second task:\", \"\\n\")\n",
        "condition = ((tr_types[\"tr_description\"].str.contains(\"POS\")) | (tr_types[\"tr_description\"].str.contains(\"ATM\")))\n",
        "types_with_condition = tr_types.tr_type[condition]\n",
        "counter = (tr_type_sample.tr_type.isin(types_with_condition)).value_counts()[True]\n",
        "print(counter/len(tr_type_sample), \"\\n\")\n"
      ]
    },
    {
      "cell_type": "markdown",
      "metadata": {
        "id": "fiZBDIZt8JeS"
      },
      "source": [
        "## Задание 2 \n"
      ]
    },
    {
      "cell_type": "markdown",
      "metadata": {
        "id": "FFKeBUThOCrz"
      },
      "source": [
        "1. Для столбца tr_type датафрейма transactions посчитайте частоту встречаемости всех типов транзакций tr_type в transactions.\n",
        "2. Выведите топ-10 транзакций по частоте встречаемости (вывести для них tr_description тоже)."
      ]
    },
    {
      "cell_type": "code",
      "execution_count": null,
      "metadata": {
        "colab": {
          "base_uri": "https://localhost:8080/"
        },
        "id": "Tw3U-YA9JrQZ",
        "outputId": "aa7361fd-5824-4f47-c27d-a349113712ba"
      },
      "outputs": [
        {
          "output_type": "stream",
          "name": "stdout",
          "text": [
            "First part:\n",
            "1010    0.231117\n",
            "2010    0.151166\n",
            "7070    0.149006\n",
            "1110    0.137658\n",
            "1030    0.118975\n",
            "          ...   \n",
            "2446    0.000004\n",
            "4096    0.000004\n",
            "8146    0.000003\n",
            "1510    0.000002\n",
            "8100    0.000002\n",
            "Name: tr_type, Length: 72, dtype: float64 \n",
            "\n",
            "Second part:\n"
          ]
        },
        {
          "output_type": "execute_result",
          "data": {
            "text/plain": [
              "1010    0.231117\n",
              "2010    0.151166\n",
              "7070    0.149006\n",
              "1110    0.137658\n",
              "1030    0.118975\n",
              "2370    0.049830\n",
              "7010    0.028972\n",
              "7030    0.026078\n",
              "7071    0.015781\n",
              "1100    0.015476\n",
              "Name: tr_type, dtype: float64"
            ]
          },
          "metadata": {},
          "execution_count": 5
        }
      ],
      "source": [
        "number_of_transactions = transactions[\"tr_type\"].value_counts().sum()\n",
        "print(\"First part:\")\n",
        "frequency = transactions[\"tr_type\"].value_counts()/number_of_transactions\n",
        "print(frequency, \"\\n\")\n",
        "print(\"Second part:\")\n",
        "frequency.head(10)\n",
        "\n"
      ]
    },
    {
      "cell_type": "markdown",
      "metadata": {
        "id": "mktm_JeA8JeX"
      },
      "source": [
        "## Задание 3\n",
        "1. В датафрейме transactions найдите клиента с максимальной суммой приходов на карту\n",
        "2. В датафрейме transactions найдите клиента с максимальной суммой расходов по карте\n",
        "3. Найдите модуль разницы для этих клиентов между суммой расходов и суммой приходов"
      ]
    },
    {
      "cell_type": "code",
      "execution_count": null,
      "metadata": {
        "id": "jTJbUYIQOcMr",
        "colab": {
          "base_uri": "https://localhost:8080/"
        },
        "outputId": "29561d04-0044-41bb-f804-da0ebc16e05d"
      },
      "outputs": [
        {
          "output_type": "stream",
          "name": "stdout",
          "text": [
            "First task:\n",
            "                   amount\n",
            "customer_id              \n",
            "70780820     1.248115e+09 \n",
            "\n",
            "Second task:\n",
            "                   amount\n",
            "customer_id              \n",
            "70780820     1.249952e+09 \n",
            "\n",
            "Third task:\n",
            "                 amount\n",
            "customer_id            \n",
            "70780820     1837317.98\n"
          ]
        }
      ],
      "source": [
        "#1\n",
        "customers = transactions[[\"customer_id\",\"amount\"]]\n",
        "profit = customers[customers[\"amount\"] > 0]\n",
        "expenditure = customers[customers[\"amount\"] < 0]\n",
        "\n",
        "max_profit = profit.groupby(\"customer_id\").sum()\n",
        "answer1 = max_profit.sort_values(by=\"amount\").tail(1)\n",
        "\n",
        "print(\"First task:\")\n",
        "print(answer1, \"\\n\")\n",
        "\n",
        "#2\n",
        "max_expenditure = expenditure.groupby(\"customer_id\").sum()\n",
        "answer2 = max_expenditure.sort_values(by=\"amount\").head(1)\n",
        "\n",
        "print(\"Second task:\")\n",
        "print(abs(answer2), \"\\n\")\n",
        "\n",
        "\n",
        "#3\n",
        "print(\"Third task:\")\n",
        "print(abs(abs(answer1) - abs(answer2)))"
      ]
    },
    {
      "cell_type": "markdown",
      "metadata": {
        "id": "BYrJ5b_E8Jee"
      },
      "source": [
        "## Задание 4\n",
        "1. Найдите среднее арифметическое и медиану по amount по всем типам транзакций из топ 10 из задания 2\n",
        "1. Найдите среднее арифметическое и медиану по amount по всем типам транзакций для клиентов из задания 3"
      ]
    },
    {
      "cell_type": "code",
      "source": [
        "#1\n",
        "print(\"First task:\", \"\\n\")\n",
        "frequency = transactions[\"tr_type\"].value_counts()\n",
        "top_10_transactions = list(frequency.head(10).index)\n",
        "\n",
        "transactions_top_10 = transactions[transactions.tr_type.isin(top_10_transactions)]\n",
        "print(\"Mean\\n\", transactions_top_10.groupby(\"tr_type\")[\"amount\"].mean(), \"\\n\")\n",
        "print(\"Median\\n\",transactions_top_10.groupby(\"tr_type\")[\"amount\"].median(), \"\\n\")\n",
        "\n",
        "#2\n",
        "print(\"Second task:\", \"\\n\")\n",
        "\n",
        "max_customer_id = list(answer1.index)[0]\n",
        "max_customer_transactions = transactions[transactions[\"customer_id\"] == max_customer_id]\n",
        "print(\"Mean\\n\", max_customer_transactions.groupby(\"tr_type\")[\"amount\"].mean(), \"\\n\")\n",
        "print(\"Median\\n\",max_customer_transactions.groupby(\"tr_type\")[\"amount\"].median(), \"\\n\")\n"
      ],
      "metadata": {
        "colab": {
          "base_uri": "https://localhost:8080/"
        },
        "id": "L-0Pyw9cmxpW",
        "outputId": "5589aeca-8751-44e0-ee43-e391ff64613d"
      },
      "execution_count": null,
      "outputs": [
        {
          "output_type": "stream",
          "name": "stdout",
          "text": [
            "First task: \n",
            "\n",
            "Mean\n",
            " tr_type\n",
            "1010    -19784.748640\n",
            "1030     -5320.980222\n",
            "1100    -44061.827262\n",
            "1110    -32119.330371\n",
            "2010   -136077.629325\n",
            "2370   -205418.249032\n",
            "7010    276391.789596\n",
            "7030     86104.332909\n",
            "7070     65569.831700\n",
            "7071     66806.826623\n",
            "Name: amount, dtype: float64 \n",
            "\n",
            "Median\n",
            " tr_type\n",
            "1010     -7411.52\n",
            "1030     -2245.92\n",
            "1100    -10188.26\n",
            "1110    -11207.57\n",
            "2010    -44918.32\n",
            "2370    -44918.32\n",
            "7010    112295.79\n",
            "7030     13951.52\n",
            "7070     11319.42\n",
            "7071      3593.47\n",
            "Name: amount, dtype: float64 \n",
            "\n",
            "Second task: \n",
            "\n",
            "Mean\n",
            " tr_type\n",
            "2010   -2.941056e+06\n",
            "2330   -2.382398e+06\n",
            "2370   -2.218505e+06\n",
            "6110    1.756293e+04\n",
            "7020    1.465129e+04\n",
            "7021    2.850067e+04\n",
            "7030    1.406196e+04\n",
            "7031    1.921036e+04\n",
            "7034    1.430648e+04\n",
            "7040    2.153833e+04\n",
            "7070    1.384821e+04\n",
            "7071    1.860057e+04\n",
            "7074    2.281159e+04\n",
            "Name: amount, dtype: float64 \n",
            "\n",
            "Median\n",
            " tr_type\n",
            "2010   -3368873.660\n",
            "2330   -2245915.770\n",
            "2370   -2245915.770\n",
            "6110      10028.010\n",
            "7020      10319.985\n",
            "7021      28500.670\n",
            "7030       8848.910\n",
            "7031      12992.620\n",
            "7034      14306.480\n",
            "7040      14396.320\n",
            "7070       8714.150\n",
            "7071      12543.440\n",
            "7074       9387.930\n",
            "Name: amount, dtype: float64 \n",
            "\n"
          ]
        }
      ]
    },
    {
      "cell_type": "markdown",
      "metadata": {
        "id": "BYXwM4l3QDBu"
      },
      "source": [
        "## Подготовка для заданий 5-8"
      ]
    },
    {
      "cell_type": "markdown",
      "metadata": {
        "id": "XWQzFeKcQHRe"
      },
      "source": [
        "*Из заданий 5-8 нужно выполнить минимум два любых*\n",
        "\n",
        "Соедините transactions с всеми остальными таблицами (tr_mcc_codes, tr_types, gender_train). Причём с gender_train необходимо смёрджиться с помощью left join, а с оставшимися датафреймами - через inner.\n",
        "После получения результата таблицы gender_train, tr_types, tr_mcc_codes можно удалить. В результате соединения датафреймов должно получиться 999584 строки."
      ]
    },
    {
      "cell_type": "code",
      "execution_count": null,
      "metadata": {
        "id": "sndJxjJ7QQf5",
        "colab": {
          "base_uri": "https://localhost:8080/"
        },
        "outputId": "226b514a-066b-4e4b-f9d3-bafa45c7f50f"
      },
      "outputs": [
        {
          "output_type": "execute_result",
          "data": {
            "text/plain": [
              "(999584, 9)"
            ]
          },
          "metadata": {},
          "execution_count": 8
        }
      ],
      "source": [
        "transactions = pd.merge(transactions, gender_train, how='left')\n",
        "transactions = pd.merge(transactions, tr_mcc_codes, how='inner')\n",
        "transactions = pd.merge(transactions, tr_types, how='inner')\n",
        "transactions.shape"
      ]
    },
    {
      "cell_type": "markdown",
      "metadata": {
        "id": "8vrFauJ8QgmT"
      },
      "source": [
        "## Задание 5"
      ]
    },
    {
      "cell_type": "markdown",
      "metadata": {
        "id": "rOjEQ5xyQfE_"
      },
      "source": [
        "1. Определите модуль разницы между средними тратами женщин и мужчин (трата - отрицательное значение amount).\n",
        "2. Определите модуль разницы между средними поступлениями у мужчин и женщин\n",
        "\n",
        "Обратите внимание, что для вычисления модуля разности точных знаний о том, \n",
        "какой класc относится к мужчинам, а какой - к женщинам, не требуется."
      ]
    },
    {
      "cell_type": "code",
      "source": [
        "#1\n",
        "print(\"First task:\", \"\\n\")\n",
        "expenditure_gender = list(transactions[transactions[\"amount\"] < 0].groupby(\"gender\").amount.mean())\n",
        "print(abs(expenditure_gender[0] - expenditure_gender[1]), \"\\n\")\n",
        "\n",
        "#2\n",
        "print(\"Second task:\", \"\\n\")\n",
        "profit_gender = list(transactions[transactions[\"amount\"] > 0].groupby(\"gender\").amount.mean())\n",
        "print(abs(profit_gender[0] - profit_gender[1]))"
      ],
      "metadata": {
        "colab": {
          "base_uri": "https://localhost:8080/"
        },
        "id": "pIKK07gL77RJ",
        "outputId": "d24e6b59-708e-470d-9518-b8d0df0c62ed"
      },
      "execution_count": null,
      "outputs": [
        {
          "output_type": "stream",
          "name": "stdout",
          "text": [
            "First task: \n",
            "\n",
            "32718.054920224655 \n",
            "\n",
            "Second task: \n",
            "\n",
            "63366.57104801464\n"
          ]
        }
      ]
    },
    {
      "cell_type": "markdown",
      "metadata": {
        "id": "DSHFLbepQ7G1"
      },
      "source": [
        "## Задание 6"
      ]
    },
    {
      "cell_type": "markdown",
      "metadata": {
        "id": "2EF1490bQ-17"
      },
      "source": [
        "1. По всем типам транзакций рассчитайте максимальную сумму прихода на карту (из строго положительных сумм по столбцу amount) отдельно для мужчин и женщин (назовите ее \"max_income\"). Оставьте по 10 типов транзакций для мужчин и для женщин, наименьших среди всех типов транзакций по полученным значениям \"max_income\". \n",
        "2. Выделите среди них те типы транзакций, которые встречаются одновременно и у мужчин, и у женщин"
      ]
    },
    {
      "cell_type": "code",
      "source": [
        "#1\n",
        "print(\"First task:\", \"\\n\")\n",
        "max_income = transactions[transactions[\"amount\"] > 0].groupby([\"gender\", \"tr_type\"])[\"amount\"].sum()\n",
        "sorted_max_income_0 = max_income[0].sort_values().head(10)\n",
        "sorted_max_income_1 = max_income[1].sort_values().head(10)\n",
        "print(\"0\\n\", sorted_max_income_0, \"\\n1\\n\", sorted_max_income_1, \"\\n\")\n",
        "\n",
        "#2\n",
        "print(\"Second task:\", \"\\n\")\n",
        "intersection = pd.merge(sorted_max_income_0, sorted_max_income_1, on = [\"tr_type\"], how='inner', copy=True).sort_values(by=\"tr_type\")\n",
        "print(intersection)"
      ],
      "metadata": {
        "colab": {
          "base_uri": "https://localhost:8080/"
        },
        "id": "HCmBFKFk91Mf",
        "outputId": "26d13cba-0a97-413b-a354-08b2287bb26a"
      },
      "execution_count": null,
      "outputs": [
        {
          "output_type": "stream",
          "name": "stdout",
          "text": [
            "First task: \n",
            "\n",
            "0\n",
            " tr_type\n",
            "4051     1122.96\n",
            "4210     2245.92\n",
            "4110     2245.92\n",
            "2370     2335.75\n",
            "7075     6737.75\n",
            "2110    22459.16\n",
            "1010    31532.66\n",
            "4100    40334.88\n",
            "2210    68315.82\n",
            "1210    83644.87\n",
            "Name: amount, dtype: float64 \n",
            "1\n",
            " tr_type\n",
            "2020      2245.92\n",
            "4110      4491.84\n",
            "1010     35317.03\n",
            "8100     64682.37\n",
            "6000     79280.83\n",
            "7041     87590.72\n",
            "2370    113194.15\n",
            "7015    121279.45\n",
            "2110    179673.26\n",
            "2010    224591.59\n",
            "Name: amount, dtype: float64 \n",
            "\n",
            "Second task: \n",
            "\n",
            "         amount_x   amount_y\n",
            "tr_type                     \n",
            "1010     31532.66   35317.03\n",
            "2110     22459.16  179673.26\n",
            "2370      2335.75  113194.15\n",
            "4110      2245.92    4491.84\n"
          ]
        }
      ]
    },
    {
      "cell_type": "markdown",
      "metadata": {
        "id": "W-LaVwRdR3UB"
      },
      "source": [
        "## Задание 7"
      ]
    },
    {
      "cell_type": "markdown",
      "metadata": {
        "id": "rhI4NOciR7e0"
      },
      "source": [
        "1. Найдите суммы затрат по каждой категории (mcc) для мужчин и для женщин. \n",
        "2. Найдите топ 10 категорий с самыми большими относительными модулями разности в тратах для разных полов (в ответе должны присутствовать описания mcc кодов)."
      ]
    },
    {
      "cell_type": "code",
      "source": [
        "#1\n",
        "print(\"First task:\", \"\\n\")\n",
        "transactions_mcc_gender = transactions[transactions[\"amount\"] < 0].groupby([\"gender\", \"mcc_code\"])[\"amount\"].sum()\n",
        "print(transactions_mcc_gender, \"\\n\")\n",
        "\n",
        "#2\n",
        "print(\"Second task:\", \"\\n\")\n",
        "transactions_mcc_gender_difference = abs(transactions_mcc_gender[0] - transactions_mcc_gender[1])\n",
        "top10_transactions_mcc_gender_difference = transactions_mcc_gender_difference.sort_values(ascending=False).head(10)\n",
        "codes_with_descriptions = pd.merge(top10_transactions_mcc_gender_difference, tr_mcc_codes, on = [\"mcc_code\"], how='inner', copy=True).sort_values([\"amount\"], ascending=False)\n",
        "codes_with_descriptions\n",
        "\n"
      ],
      "metadata": {
        "colab": {
          "base_uri": "https://localhost:8080/",
          "height": 691
        },
        "id": "pxFAVp6MGrTX",
        "outputId": "ed35d645-fc1f-4cda-e51a-6259399a5cb6"
      },
      "execution_count": null,
      "outputs": [
        {
          "output_type": "stream",
          "name": "stdout",
          "text": [
            "First task: \n",
            "\n",
            "gender  mcc_code\n",
            "0.0     742          -386207.68\n",
            "        1711         -674897.69\n",
            "        1799         -261626.73\n",
            "        2741          -20746.42\n",
            "        3000       -74431645.27\n",
            "                       ...     \n",
            "1.0     8999       -28643346.63\n",
            "        9222         -988205.17\n",
            "        9311         -373271.22\n",
            "        9399        -1810820.67\n",
            "        9402           -4581.67\n",
            "Name: amount, Length: 349, dtype: float64 \n",
            "\n",
            "Second task: \n",
            "\n"
          ]
        },
        {
          "output_type": "execute_result",
          "data": {
            "text/plain": [
              "   mcc_code        amount                                    mcc_description\n",
              "0      6011  3.085862e+09  Финансовые институты — снятие наличности автом...\n",
              "1      4829  2.499153e+09                                  Денежные переводы\n",
              "2      6010  2.208580e+08   Финансовые институты — снятие наличности вручную\n",
              "3      5541  1.554326e+08                            Станции техобслуживания\n",
              "4      5511  7.352877e+07  Легковой и грузовой транспорт — продажа, серви...\n",
              "5      5812  7.037856e+07             Места общественного питания, рестораны\n",
              "6      5977  4.241762e+07                                 Магазины косметики\n",
              "7      5533  4.233808e+07                          Автозапчасти и аксессуары\n",
              "8      7995  4.079564e+07                       Транзакции по азартным играм\n",
              "9      5661  3.815470e+07                                   Обувные магазины"
            ],
            "text/html": [
              "\n",
              "  <div id=\"df-055446ae-2e8c-4341-bdb7-bcc1e0cba5f1\">\n",
              "    <div class=\"colab-df-container\">\n",
              "      <div>\n",
              "<style scoped>\n",
              "    .dataframe tbody tr th:only-of-type {\n",
              "        vertical-align: middle;\n",
              "    }\n",
              "\n",
              "    .dataframe tbody tr th {\n",
              "        vertical-align: top;\n",
              "    }\n",
              "\n",
              "    .dataframe thead th {\n",
              "        text-align: right;\n",
              "    }\n",
              "</style>\n",
              "<table border=\"1\" class=\"dataframe\">\n",
              "  <thead>\n",
              "    <tr style=\"text-align: right;\">\n",
              "      <th></th>\n",
              "      <th>mcc_code</th>\n",
              "      <th>amount</th>\n",
              "      <th>mcc_description</th>\n",
              "    </tr>\n",
              "  </thead>\n",
              "  <tbody>\n",
              "    <tr>\n",
              "      <th>0</th>\n",
              "      <td>6011</td>\n",
              "      <td>3.085862e+09</td>\n",
              "      <td>Финансовые институты — снятие наличности автом...</td>\n",
              "    </tr>\n",
              "    <tr>\n",
              "      <th>1</th>\n",
              "      <td>4829</td>\n",
              "      <td>2.499153e+09</td>\n",
              "      <td>Денежные переводы</td>\n",
              "    </tr>\n",
              "    <tr>\n",
              "      <th>2</th>\n",
              "      <td>6010</td>\n",
              "      <td>2.208580e+08</td>\n",
              "      <td>Финансовые институты — снятие наличности вручную</td>\n",
              "    </tr>\n",
              "    <tr>\n",
              "      <th>3</th>\n",
              "      <td>5541</td>\n",
              "      <td>1.554326e+08</td>\n",
              "      <td>Станции техобслуживания</td>\n",
              "    </tr>\n",
              "    <tr>\n",
              "      <th>4</th>\n",
              "      <td>5511</td>\n",
              "      <td>7.352877e+07</td>\n",
              "      <td>Легковой и грузовой транспорт — продажа, серви...</td>\n",
              "    </tr>\n",
              "    <tr>\n",
              "      <th>5</th>\n",
              "      <td>5812</td>\n",
              "      <td>7.037856e+07</td>\n",
              "      <td>Места общественного питания, рестораны</td>\n",
              "    </tr>\n",
              "    <tr>\n",
              "      <th>6</th>\n",
              "      <td>5977</td>\n",
              "      <td>4.241762e+07</td>\n",
              "      <td>Магазины косметики</td>\n",
              "    </tr>\n",
              "    <tr>\n",
              "      <th>7</th>\n",
              "      <td>5533</td>\n",
              "      <td>4.233808e+07</td>\n",
              "      <td>Автозапчасти и аксессуары</td>\n",
              "    </tr>\n",
              "    <tr>\n",
              "      <th>8</th>\n",
              "      <td>7995</td>\n",
              "      <td>4.079564e+07</td>\n",
              "      <td>Транзакции по азартным играм</td>\n",
              "    </tr>\n",
              "    <tr>\n",
              "      <th>9</th>\n",
              "      <td>5661</td>\n",
              "      <td>3.815470e+07</td>\n",
              "      <td>Обувные магазины</td>\n",
              "    </tr>\n",
              "  </tbody>\n",
              "</table>\n",
              "</div>\n",
              "      <button class=\"colab-df-convert\" onclick=\"convertToInteractive('df-055446ae-2e8c-4341-bdb7-bcc1e0cba5f1')\"\n",
              "              title=\"Convert this dataframe to an interactive table.\"\n",
              "              style=\"display:none;\">\n",
              "        \n",
              "  <svg xmlns=\"http://www.w3.org/2000/svg\" height=\"24px\"viewBox=\"0 0 24 24\"\n",
              "       width=\"24px\">\n",
              "    <path d=\"M0 0h24v24H0V0z\" fill=\"none\"/>\n",
              "    <path d=\"M18.56 5.44l.94 2.06.94-2.06 2.06-.94-2.06-.94-.94-2.06-.94 2.06-2.06.94zm-11 1L8.5 8.5l.94-2.06 2.06-.94-2.06-.94L8.5 2.5l-.94 2.06-2.06.94zm10 10l.94 2.06.94-2.06 2.06-.94-2.06-.94-.94-2.06-.94 2.06-2.06.94z\"/><path d=\"M17.41 7.96l-1.37-1.37c-.4-.4-.92-.59-1.43-.59-.52 0-1.04.2-1.43.59L10.3 9.45l-7.72 7.72c-.78.78-.78 2.05 0 2.83L4 21.41c.39.39.9.59 1.41.59.51 0 1.02-.2 1.41-.59l7.78-7.78 2.81-2.81c.8-.78.8-2.07 0-2.86zM5.41 20L4 18.59l7.72-7.72 1.47 1.35L5.41 20z\"/>\n",
              "  </svg>\n",
              "      </button>\n",
              "      \n",
              "  <style>\n",
              "    .colab-df-container {\n",
              "      display:flex;\n",
              "      flex-wrap:wrap;\n",
              "      gap: 12px;\n",
              "    }\n",
              "\n",
              "    .colab-df-convert {\n",
              "      background-color: #E8F0FE;\n",
              "      border: none;\n",
              "      border-radius: 50%;\n",
              "      cursor: pointer;\n",
              "      display: none;\n",
              "      fill: #1967D2;\n",
              "      height: 32px;\n",
              "      padding: 0 0 0 0;\n",
              "      width: 32px;\n",
              "    }\n",
              "\n",
              "    .colab-df-convert:hover {\n",
              "      background-color: #E2EBFA;\n",
              "      box-shadow: 0px 1px 2px rgba(60, 64, 67, 0.3), 0px 1px 3px 1px rgba(60, 64, 67, 0.15);\n",
              "      fill: #174EA6;\n",
              "    }\n",
              "\n",
              "    [theme=dark] .colab-df-convert {\n",
              "      background-color: #3B4455;\n",
              "      fill: #D2E3FC;\n",
              "    }\n",
              "\n",
              "    [theme=dark] .colab-df-convert:hover {\n",
              "      background-color: #434B5C;\n",
              "      box-shadow: 0px 1px 3px 1px rgba(0, 0, 0, 0.15);\n",
              "      filter: drop-shadow(0px 1px 2px rgba(0, 0, 0, 0.3));\n",
              "      fill: #FFFFFF;\n",
              "    }\n",
              "  </style>\n",
              "\n",
              "      <script>\n",
              "        const buttonEl =\n",
              "          document.querySelector('#df-055446ae-2e8c-4341-bdb7-bcc1e0cba5f1 button.colab-df-convert');\n",
              "        buttonEl.style.display =\n",
              "          google.colab.kernel.accessAllowed ? 'block' : 'none';\n",
              "\n",
              "        async function convertToInteractive(key) {\n",
              "          const element = document.querySelector('#df-055446ae-2e8c-4341-bdb7-bcc1e0cba5f1');\n",
              "          const dataTable =\n",
              "            await google.colab.kernel.invokeFunction('convertToInteractive',\n",
              "                                                     [key], {});\n",
              "          if (!dataTable) return;\n",
              "\n",
              "          const docLinkHtml = 'Like what you see? Visit the ' +\n",
              "            '<a target=\"_blank\" href=https://colab.research.google.com/notebooks/data_table.ipynb>data table notebook</a>'\n",
              "            + ' to learn more about interactive tables.';\n",
              "          element.innerHTML = '';\n",
              "          dataTable['output_type'] = 'display_data';\n",
              "          await google.colab.output.renderOutput(dataTable, element);\n",
              "          const docLink = document.createElement('div');\n",
              "          docLink.innerHTML = docLinkHtml;\n",
              "          element.appendChild(docLink);\n",
              "        }\n",
              "      </script>\n",
              "    </div>\n",
              "  </div>\n",
              "  "
            ]
          },
          "metadata": {},
          "execution_count": 57
        }
      ]
    },
    {
      "cell_type": "code",
      "source": [
        "#дополнительно\n",
        "buff = transactions_mcc_gender\n",
        "transactions_mcc_gender['max spendings'] = np.where((transactions_mcc_gender[0] - transactions_mcc_gender[1]) > 0, 0, 1)\n",
        "print(transactions_mcc_gender)\n",
        "zero_gender = buff[(buff[0] - buff[1]) > 0].head(5)\n",
        "one_gender = buff[(buff[0] - buff[1]) < 0].head(5)\n",
        "print(zero_gender)\n",
        "print(one_gender)\n",
        "\n",
        "\n",
        "\n",
        "\n"
      ],
      "metadata": {
        "colab": {
          "base_uri": "https://localhost:8080/"
        },
        "id": "bU0gcYFQAo3H",
        "outputId": "bf85bcc9-6d5b-4a9d-ce03-268aa9f3ef5c"
      },
      "execution_count": null,
      "outputs": [
        {
          "output_type": "stream",
          "name": "stdout",
          "text": [
            "gender         mcc_code\n",
            "0.0            742          -386207.68\n",
            "               1711         -674897.69\n",
            "               1799         -261626.73\n",
            "               2741          -20746.42\n",
            "               3000       -74431645.27\n",
            "                              ...     \n",
            "1.0            9222         -988205.17\n",
            "               9311         -373271.22\n",
            "               9399        -1810820.67\n",
            "               9402           -4581.67\n",
            "max spendings                        0\n",
            "Name: amount, Length: 350, dtype: object\n",
            "mcc_code\n",
            "742     -132277.93\n",
            "1711     -206264.9\n",
            "1731    -121542.67\n",
            "1799   -1129257.68\n",
            "2741    -221290.08\n",
            "Name: amount, dtype: object\n",
            "mcc_code\n",
            "742      -386207.68\n",
            "1711     -674897.69\n",
            "1799     -261626.73\n",
            "2741      -20746.42\n",
            "3000   -74431645.27\n",
            "Name: amount, dtype: object\n"
          ]
        }
      ]
    },
    {
      "cell_type": "code",
      "source": [
        "one_gender"
      ],
      "metadata": {
        "colab": {
          "base_uri": "https://localhost:8080/"
        },
        "id": "Mg4BwWKSJmzt",
        "outputId": "ffe397c4-69de-4793-981f-625ec448acf8"
      },
      "execution_count": null,
      "outputs": [
        {
          "output_type": "execute_result",
          "data": {
            "text/plain": [
              "mcc_code\n",
              "742      -386207.68\n",
              "1711     -674897.69\n",
              "1799     -261626.73\n",
              "2741      -20746.42\n",
              "3000   -74431645.27\n",
              "Name: amount, dtype: object"
            ]
          },
          "metadata": {},
          "execution_count": 87
        }
      ]
    },
    {
      "cell_type": "code",
      "source": [
        "zero_gender"
      ],
      "metadata": {
        "colab": {
          "base_uri": "https://localhost:8080/"
        },
        "id": "5ve8Ui0lKCLd",
        "outputId": "2e410252-a837-427e-950f-eaa9814df289"
      },
      "execution_count": null,
      "outputs": [
        {
          "output_type": "execute_result",
          "data": {
            "text/plain": [
              "mcc_code\n",
              "742     -132277.93\n",
              "1711     -206264.9\n",
              "1731    -121542.67\n",
              "1799   -1129257.68\n",
              "2741    -221290.08\n",
              "Name: amount, dtype: object"
            ]
          },
          "metadata": {},
          "execution_count": 88
        }
      ]
    },
    {
      "cell_type": "code",
      "source": [],
      "metadata": {
        "id": "bviF6iA7KXNc"
      },
      "execution_count": null,
      "outputs": []
    },
    {
      "cell_type": "markdown",
      "metadata": {
        "id": "aGaPkQkVSvl8"
      },
      "source": [
        "## Задание 8"
      ]
    },
    {
      "cell_type": "markdown",
      "metadata": {
        "id": "T7Ox1qAXTHQl"
      },
      "source": [
        "1. Из поля tr_datetime выделите час tr_hour, в который произошла транзакция, как первые 2 цифры до \":\". (\\**)\n",
        "2. Посчитайте количество транзакций с amount<0 в ночное время для мужчин и женщин. Ночное время - это примерно 00-06 часов. "
      ]
    },
    {
      "cell_type": "code",
      "source": [
        "#1\n",
        "print(\"First task\\n\")\n",
        "transactions[\"tr_hour\"] = (transactions[\"tr_datetime\"].str.split(\" \", expand=True)[1].str.split(\":\", expand=True)[0])\n",
        "print(transactions[[\"tr_datetime\", \"tr_hour\"]], \"\\n\")\n",
        "\n",
        "#2\n",
        "print(\"Second task\\n\")\n",
        "result = transactions[(transactions[\"amount\"] < 0) & (transactions[\"tr_hour\"].astype(int) <= 6)].groupby(\"gender\")[\"amount\"].count()\n",
        "print(result)"
      ],
      "metadata": {
        "colab": {
          "base_uri": "https://localhost:8080/"
        },
        "id": "KUODkQKy-DCg",
        "outputId": "53298f7e-92ea-4674-b5a0-19a7a53266b4"
      },
      "execution_count": null,
      "outputs": [
        {
          "output_type": "stream",
          "name": "stdout",
          "text": [
            "First task\n",
            "\n",
            "         tr_datetime tr_hour\n",
            "0         0 10:23:26      10\n",
            "1         6 07:08:31      07\n",
            "2         8 07:06:10      07\n",
            "3        11 08:49:03      08\n",
            "4        11 14:12:08      14\n",
            "...              ...     ...\n",
            "999579   18 23:38:60      23\n",
            "999580  206 19:00:10      19\n",
            "999581   90 22:40:57      22\n",
            "999582  104 23:39:35      23\n",
            "999583  105 23:38:49      23\n",
            "\n",
            "[999584 rows x 2 columns] \n",
            "\n",
            "Second task\n",
            "\n",
            "gender\n",
            "0.0    43510\n",
            "1.0    46694\n",
            "Name: amount, dtype: int64\n"
          ]
        }
      ]
    }
  ],
  "metadata": {
    "colab": {
      "provenance": []
    },
    "hide_input": false,
    "kernelspec": {
      "display_name": "Python 3",
      "language": "python",
      "name": "python3"
    },
    "language_info": {
      "codemirror_mode": {
        "name": "ipython",
        "version": 3
      },
      "file_extension": ".py",
      "mimetype": "text/x-python",
      "name": "python",
      "nbconvert_exporter": "python",
      "pygments_lexer": "ipython3",
      "version": "3.7.1"
    },
    "toc": {
      "base_numbering": 1,
      "nav_menu": {},
      "number_sections": true,
      "sideBar": true,
      "skip_h1_title": false,
      "title_cell": "Table of Contents",
      "title_sidebar": "Contents",
      "toc_cell": true,
      "toc_position": {},
      "toc_section_display": true,
      "toc_window_display": false
    },
    "varInspector": {
      "cols": {
        "lenName": 16,
        "lenType": 16,
        "lenVar": 40
      },
      "kernels_config": {
        "python": {
          "delete_cmd_postfix": "",
          "delete_cmd_prefix": "del ",
          "library": "var_list.py",
          "varRefreshCmd": "print(var_dic_list())"
        },
        "r": {
          "delete_cmd_postfix": ") ",
          "delete_cmd_prefix": "rm(",
          "library": "var_list.r",
          "varRefreshCmd": "cat(var_dic_list()) "
        }
      },
      "types_to_exclude": [
        "module",
        "function",
        "builtin_function_or_method",
        "instance",
        "_Feature"
      ],
      "window_display": false
    }
  },
  "nbformat": 4,
  "nbformat_minor": 0
}