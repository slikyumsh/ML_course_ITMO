{
  "nbformat": 4,
  "nbformat_minor": 0,
  "metadata": {
    "colab": {
      "provenance": []
    },
    "kernelspec": {
      "display_name": "Python 3",
      "language": "python",
      "name": "python3"
    },
    "language_info": {
      "codemirror_mode": {
        "name": "ipython",
        "version": 3
      },
      "file_extension": ".py",
      "mimetype": "text/x-python",
      "name": "python",
      "nbconvert_exporter": "python",
      "pygments_lexer": "ipython3",
      "version": "3.7.4"
    }
  },
  "cells": [
    {
      "cell_type": "markdown",
      "source": [
        "Перед началом выполнения, сделайте копию этого colab'а. Чтобы сделать копию нужно в пункте меню Файл выбрать \"Сохранить копию на диске\""
      ],
      "metadata": {
        "id": "131T1pm5PaF4"
      }
    },
    {
      "cell_type": "markdown",
      "metadata": {
        "id": "BsNwjQDRfmLY"
      },
      "source": [
        "# Задание 1"
      ]
    },
    {
      "cell_type": "markdown",
      "metadata": {
        "id": "wu6r1-s7fmLe"
      },
      "source": [
        "---"
      ]
    },
    {
      "cell_type": "markdown",
      "metadata": {
        "id": "zxRIdPO9gYyX"
      },
      "source": [
        "Напишите программу, которая будет решать систему линейных уравнений вида:\n",
        "\n",
        "\\begin{matrix} a_{11}x+a_{12}y=b_{1}&(1) \\\\ a_{21}x+a_{22}y=b_{2} &(2) \\end{matrix}\n",
        "​\t\n",
        "На вход программа должна принимать 2 строки.\n",
        "\n",
        "Каждая строка содержит 3 действительных числа через пробел: коэффициенты a и b.\n",
        "\n",
        "На выходе программа должна выдавать значения x и y в одну строку через пробел.\n",
        " \n",
        "\n",
        "Примечание 1. Для разделения строки на отдельные элементы используйте функцию split()\n",
        "\n",
        "Примечание 2. В качестве разделителя между целой и дробной частью используйте точку, например 0.2"
      ]
    },
    {
      "cell_type": "markdown",
      "source": [
        "### Подсказка 1"
      ],
      "metadata": {
        "id": "kElPCFyiua9I"
      }
    },
    {
      "cell_type": "code",
      "source": [
        "import pandas as pd\n",
        "import numpy as np\n",
        "\n",
        "def first_task():   \n",
        "    first_message = \"Enter coefficients of the first equation \"\n",
        "    second_message = \"Enter coefficients of the second equation \"\n",
        "    \n",
        "    first_equation = np.array(input(first_message).split()).astype(float)\n",
        "    second_equation = np.array(input(second_message).split()).astype(float)\n",
        "\n",
        "    left_part = np.array([first_equation[0:2], second_equation[0:2]])\n",
        "    right_part = np.array([first_equation[2], second_equation[2]])\n",
        "    \n",
        "    result = np.linalg.solve(left_part, right_part)\n",
        "    print(\"Results:\", end=' ')\n",
        "    print(\"x = {0}, y = {1}\".format(result[0], result[1]))\n",
        "\n",
        "first_task()"
      ],
      "metadata": {
        "colab": {
          "base_uri": "https://localhost:8080/"
        },
        "id": "yahPIfNNB7-Y",
        "outputId": "3afb930e-f81d-4a72-f7a6-37e9d800617f"
      },
      "execution_count": null,
      "outputs": [
        {
          "output_type": "stream",
          "name": "stdout",
          "text": [
            "Enter coefficients of the first equation 3 4 5\n",
            "Enter coefficients of the second equation 6 7 8\n",
            "Results: x = -1.0, y = 2.0\n"
          ]
        }
      ]
    },
    {
      "cell_type": "markdown",
      "metadata": {
        "id": "wLoVDMQnfmOv"
      },
      "source": [
        "# Задание 2"
      ]
    },
    {
      "cell_type": "markdown",
      "metadata": {
        "id": "6bmt_YF3fmOw"
      },
      "source": [
        "Напишите функцию `decorate_matrix`, которая получает на вход одно целое число больше единицы. Функция должна возвращать матрицу n на n, у которой на границах стоят единицы, а на всех остальных позициях(если остались позиции не на границах) стоят нули.\n",
        "\n",
        "Нужно сделать без использования  циклов.\n",
        "\n",
        "```\n",
        "# ожидаемый резальтат для аргумента 5\n",
        "array([[1., 1., 1., 1., 1.],\n",
        "[1., 0., 0., 0., 1.],\n",
        "[1., 0., 0., 0., 1.],\n",
        "[1., 0., 0., 0., 1.],\n",
        "[1., 1., 1., 1., 1.]])\n",
        "```\n",
        "\n"
      ]
    },
    {
      "cell_type": "code",
      "source": [
        "def decorate_matrix(n): \n",
        "    if (n <= 0):\n",
        "        raise ValueError\n",
        "        \n",
        "    matrix = np.zeros(shape=(n,n))\n",
        "    matrix[0, :] = 1\n",
        "    matrix[n - 1, :] = 1\n",
        "    matrix[:, 0] = 1\n",
        "    matrix[:, n - 1] = 1\n",
        "    \n",
        "    return matrix\n",
        "\n",
        "def second_task():\n",
        "    input_message = \"Enter matrix size\"\n",
        "    size = int(input(input_message))\n",
        "    try:\n",
        "        print(decorate_matrix(size))\n",
        "    except ValueError:\n",
        "        print(\"Invalid matrix size\")\n",
        "\n",
        "second_task()"
      ],
      "metadata": {
        "colab": {
          "base_uri": "https://localhost:8080/"
        },
        "id": "63yRb7IvDif2",
        "outputId": "893d2d42-f4ed-49d8-f07e-d3a9fcafc2ad"
      },
      "execution_count": null,
      "outputs": [
        {
          "output_type": "stream",
          "name": "stdout",
          "text": [
            "Enter matrix size3\n",
            "[[1. 1. 1.]\n",
            " [1. 0. 1.]\n",
            " [1. 1. 1.]]\n"
          ]
        }
      ]
    },
    {
      "cell_type": "markdown",
      "metadata": {
        "id": "75sxny1zSCbl"
      },
      "source": [
        "# Задание 3"
      ]
    },
    {
      "cell_type": "markdown",
      "metadata": {
        "id": "2Xq1tBBAS5UJ"
      },
      "source": [
        "1) реализуйте 2 функции:\n",
        "\n",
        "$f(x) = (x+a)^2 - b$ \n",
        "\n",
        "$g(x) = |f(x)|$\n",
        "\n",
        "2) Найдите аргументы, при которых достигается минимум функций $f(x)$ и $g(x)$\n",
        "\n",
        "Пример. \n",
        "Входные значение: $a=3$ и $b=4$\n",
        "\n",
        "Выходные значения:\n",
        "\n",
        "`-3.0 -1.0`"
      ]
    },
    {
      "cell_type": "markdown",
      "source": [
        "Для поиска минимума воспользуемся методом дихотомии. Для первой функции очевидно, что минимум будет один, поскольку функция является параболой \"рогами вверх, то есть имеет минимум в вершине. Во втором случае очевидно, что необходимо запустить два раза алгоритм, поскольку миниммов будет два (ели решать руками, то мы раскроем модуль с \"плюсом\" и с \"минусом\"."
      ],
      "metadata": {
        "id": "zXLofOT5GPwk"
      }
    },
    {
      "cell_type": "code",
      "source": [
        "def f(a, b):\n",
        "    return lambda x: ((x + a)**2 - b)\n",
        "\n",
        "def g(a, b):\n",
        "    return lambda x: np.absolute(((x + a)**2 - b))\n",
        "\n",
        "\n",
        "\n",
        "def dichotomy_method(func, a, b, left, right, eps=1e-3):\n",
        "    mid = (left + right) / 2.0\n",
        "    while np.absolute(right - left) > eps:\n",
        "        f_mid_1 = func(a, b)(mid - eps / 2.0)\n",
        "        f_mid_2 = func(a, b)(mid + eps / 2.0)\n",
        "        if (f_mid_1 <= f_mid_2):\n",
        "            right = mid - eps / 2.0\n",
        "        else:\n",
        "            left = mid + eps / 2.0\n",
        "        mid = (left + right) / 2.0\n",
        "    return mid\n",
        "\n",
        "\n",
        "\n",
        "def third_task(a, b, left_board, right_board):\n",
        "    f_min = round(float(dichotomy_method(f, a, b, left_board, right_board)), 1)\n",
        "    g_min = [round(float(dichotomy_method(g, a, b, f_min, right_board)), 1)]\n",
        "    g_min.append(round(float(dichotomy_method(g, a, b, left_board, f_min)), 1))\n",
        "    \n",
        "    return([f_min, g_min])\n",
        "\n",
        "\n",
        "\n",
        "a, b = map(float, input(\"Enter 2 numbers: \").split())\n",
        "    \n",
        "min = third_task(a, b, -5., 5.)\n",
        "min_f = min[0]\n",
        "min_g = min[1]\n",
        "print(min_f)\n",
        "print(min_g)"
      ],
      "metadata": {
        "colab": {
          "base_uri": "https://localhost:8080/"
        },
        "id": "gpaVNufMD9et",
        "outputId": "964fdb2b-f910-49c4-af5a-bc4a9cf91ba1"
      },
      "execution_count": null,
      "outputs": [
        {
          "output_type": "stream",
          "name": "stdout",
          "text": [
            "Enter 2 numbers: 3 4\n",
            "-3.0\n",
            "[-1.0, -5.0]\n"
          ]
        }
      ]
    },
    {
      "cell_type": "markdown",
      "metadata": {
        "id": "efml9GzISC9Q"
      },
      "source": [
        "# Задание 4"
      ]
    },
    {
      "cell_type": "markdown",
      "metadata": {
        "id": "SDZvKcsTVbAW"
      },
      "source": [
        "Постройте графики для функций из предыдущего задания и отметьте другим цветом на графиках точки найденных минимумов."
      ]
    },
    {
      "cell_type": "markdown",
      "source": [],
      "metadata": {
        "id": "-AfuEFKgGLpV"
      }
    },
    {
      "cell_type": "code",
      "source": [
        "import matplotlib.pyplot as plt\n",
        "\n",
        "def show_first_plot():\n",
        "  fig = plt.subplots()\n",
        "  x = np.linspace(-10, 10,100)\n",
        "  plt.plot(x, f(a, b)(x))\n",
        "  plt.ylabel(\"F\")\n",
        "  plt.xlabel(\"X\")\n",
        "  plt.scatter(min_f, f(a, b)(min_f), c='#FF0000')\n",
        "  plt.show()\n",
        "\n",
        "def show_second_plot():\n",
        "  fig = plt.subplots()\n",
        "  x = np.linspace(-10, 10,100)\n",
        "  plt.plot(x, g(a, b)(x))\n",
        "  plt.ylabel(\"F\")\n",
        "  plt.xlabel(\"X\")\n",
        "  for val in min_g:\n",
        "    plt.scatter(val, g(a, b)(val), c='#FF0000') \n",
        "  plt.show()\n",
        "\n",
        "show_first_plot()\n",
        "show_second_plot()"
      ],
      "metadata": {
        "colab": {
          "base_uri": "https://localhost:8080/",
          "height": 541
        },
        "id": "ahhOHWx6FqGF",
        "outputId": "00f77ea8-3de4-4fa1-eb1f-3c8c9e629282"
      },
      "execution_count": null,
      "outputs": [
        {
          "output_type": "display_data",
          "data": {
            "text/plain": [
              "<Figure size 432x288 with 1 Axes>"
            ],
            "image/png": "[encoded data removed]"
          },
          "metadata": {
            "needs_background": "light"
          }
        },
        {
          "output_type": "display_data",
          "data": {
            "text/plain": [
              "<Figure size 432x288 with 1 Axes>"
            ],
            "image/png": "[encoded data removed]"
          },
          "metadata": {
            "needs_background": "light"
          }
        }
      ]
    },
    {
      "cell_type": "markdown",
      "metadata": {
        "id": "mrby3EfiSDKJ"
      },
      "source": [
        "# Задание 5"
      ]
    },
    {
      "cell_type": "markdown",
      "metadata": {
        "id": "J6AZ8785VkQd"
      },
      "source": [
        "1000 человек бросают монетку. Каждый бросил 10 раз подряд.\n",
        "\n",
        " 1. Какова вероятность того, что хотя бы у одного человека монетка выпала 10 раз подряд той же самой стороной (орлом или решкой)? \n",
        " 2. Какова вероятность того, что хотя бы у одного человека монетка выпала 8 раз подряд той же самой стороной (орлом или решкой)? \n",
        " 3. Какова вероятность того, что ровно у троих человек из 1000 монетка выпала 10 раз подряд той же самой стороной (орлом или решкой)?"
      ]
    },
    {
      "cell_type": "code",
      "source": [
        "def first_part():\n",
        "  '''\n",
        "  2^10 - общее количество комбинаций из орлов и решек, которые получаются из 10 монет, 2 варианта, удовлетворяющие нас - все орлы и все решки.\n",
        "  p1 - вероятность того, что у одного человека выпало 10 монет одной стороной\n",
        "  '''\n",
        "  p1 = 2 / 2**10\n",
        "\n",
        "  #q1 - вероятность того, что у одного человека не выпало 10 монет одной стороной\n",
        "  q1 = 1 - p1\n",
        "\n",
        "  #q1000 - вероятность того, что ни у одного человека не выпало 10 монет одной стороной\n",
        "  q1000 = q1**1000\n",
        "\n",
        "  #p1000 - вероятность того, что среди тысячи человек, хотя бы один получил комбинцаю из всех орлов или всех решек\n",
        "  p1000 = 1 - q1000\n",
        "\n",
        "  print(\"Result:\", round(p1000, 6))\n",
        "\n",
        "def second_part():\n",
        "  '''\n",
        "   p1 - вероятность того, что монетка 8 раз подряд выбрала одной стороной.\n",
        "   2^10 - общее количество комбинаций из орлов и решек, которые получаются из 10 монет\n",
        "   Посчитаем количество комбинцаций, которые удовлетворяют нас и все 8 монет орлы \n",
        "   (в силу симметрии, сможем провести аналогичные рассуждения для решек, поэтому сможем умножить полученное количество на 2).\n",
        "   У нас может быть 8 орлов, 9 орлов и 10 орлов. 10 орлов - 1 вариант. 9 орлов - 2 варианта (решка вначале или решка в конце). \n",
        "   8 орлов - 5 вариантов (2 решки вначале, орел и решка вначале, 1 решка вначале и 1 в конце, две в конце решки в конце, решка и орел в конце)\n",
        "  '''\n",
        "  p1 = 2 * (5 + 2 + 1) / 2**10\n",
        "\n",
        "  # q1 - вероятность того, что человеку не выпадет комбинация, удовлетворяющая условию\n",
        "  q1 = 1 - p1\n",
        "\n",
        "  #q1000 - вероятность того, что ни одному человеку не выпала комбинация монет, удовлетворяющая условию\n",
        "  q1000 = q1**1000\n",
        "\n",
        "  #p1000 - вероятность того, что хотя бы одному человеку выпала комбинация монет, удовлетворяющая условию\n",
        "  p1000 = 1. - q1000\n",
        "\n",
        "  print(\"Result:\", round(p1000, 8))\n",
        "\n",
        "\n",
        "# С из n по k\n",
        "def C(n, k):\n",
        "  result = 1\n",
        "  for i in range(n - k + 1, n + 1):\n",
        "    result *= i\n",
        "\n",
        "  for i in range (1, k + 1):\n",
        "    result /= i\n",
        "\n",
        "  return result\n",
        "\n",
        "def third_part():\n",
        "  # Эти величины уже считали в первой части этого задания\n",
        "  p1 = 2 / 2**10\n",
        "  q1 = 1 - p1\n",
        "\n",
        " # Необходимо выбрать 3х челоывек, которые смогли получить требуемую комбинацию\n",
        "  result = p1**3 * q1**997 * C(1000, 3)\n",
        "  print(\"Result:\", round(result, 5))\n",
        "\n",
        "first_part()\n",
        "second_part()\n",
        "third_part()"
      ],
      "metadata": {
        "colab": {
          "base_uri": "https://localhost:8080/"
        },
        "id": "OctdZl2fHoW1",
        "outputId": "813fa8b9-3fa5-44aa-ab84-6ceda9b7dd98"
      },
      "execution_count": null,
      "outputs": [
        {
          "output_type": "stream",
          "name": "stdout",
          "text": [
            "Result: 0.85844\n",
            "Result: 0.99999986\n",
            "Result: 0.17629\n"
          ]
        }
      ]
    }
  ]
}