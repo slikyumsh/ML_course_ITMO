{
  "nbformat": 4,
  "nbformat_minor": 0,
  "metadata": {
    "kernelspec": {
      "display_name": "Python 3",
      "language": "python",
      "name": "python3"
    },
    "language_info": {
      "codemirror_mode": {
        "name": "ipython",
        "version": 3
      },
      "file_extension": ".py",
      "mimetype": "text/x-python",
      "name": "python",
      "nbconvert_exporter": "python",
      "pygments_lexer": "ipython3",
      "version": "3.5.2"
    },
    "colab": {
      "provenance": [],
      "collapsed_sections": [
        "5QYTwyMtWhAZ",
        "DbJrUpARWhAd",
        "MI18l-l9WhAk",
        "1wrEGqBSWhAr",
        "gStgBJy2WhAx"
      ]
    }
  },
  "cells": [
    {
      "cell_type": "markdown",
      "metadata": {
        "id": "UHX9p5jfTySS"
      },
      "source": [
        "## Задание 5.1"
      ]
    },
    {
      "cell_type": "markdown",
      "metadata": {
        "id": "0EnHNZtbXlH0"
      },
      "source": [
        "Набор данных тут: https://github.com/sismetanin/rureviews, также есть в папке [Data](https://drive.google.com/drive/folders/1YAMe7MiTxA-RSSd8Ex2p-L0Dspe6Gs4L). Те, кто предпочитает работать с английским языком, могут использовать набор данных `sms_spam`."
      ]
    },
    {
      "cell_type": "markdown",
      "metadata": {
        "id": "bJox-LoonoPx"
      },
      "source": [
        "Применим полученные навыки и решим задачу анализа тональности отзывов. \n",
        "\n",
        "Нужно повторить весь пайплайн от сырых текстов до получения обученной модели.\n",
        "\n",
        "Обязательные шаги предобработки:\n",
        "1. токенизация\n",
        "2. приведение к нижнему регистру\n",
        "3. удаление стоп-слов\n",
        "4. лемматизация\n",
        "5. векторизация (с настройкой гиперпараметров)\n",
        "6. построение модели\n",
        "7. оценка качества модели\n",
        "\n",
        "Обязательно использование векторайзеров:\n",
        "1. мешок n-грамм (диапазон для n подбирайте самостоятельно, запрещено использовать только униграммы).\n",
        "2. tf-idf ((диапазон для n подбирайте самостоятельно, также нужно подбирать параметры max_df, min_df, max_features)\n",
        "3. символьные n-граммы (диапазон для n подбирайте самостоятельно)\n",
        "\n",
        "В качестве классификатора нужно использовать наивный байесовский классификатор. \n",
        "\n",
        "Для сравнения векторайзеров между собой используйте precision, recall, f1-score и accuracy. Для этого сформируйте датафрейм, в котором в строках будут разные векторайзеры, а в столбцах разные метрики качества, а в  ячейках будут значения этих метрик для соответсвующих векторайзеров."
      ]
    },
    {
      "cell_type": "code",
      "source": [
        "!pip install pymorphy2"
      ],
      "metadata": {
        "colab": {
          "base_uri": "https://localhost:8080/"
        },
        "id": "cO2qRDla8QiY",
        "outputId": "935df97e-c106-48ef-bbf9-8b0f858e77f4"
      },
      "execution_count": null,
      "outputs": [
        {
          "output_type": "stream",
          "name": "stdout",
          "text": [
            "Looking in indexes: https://pypi.org/simple, https://us-python.pkg.dev/colab-wheels/public/simple/\n",
            "Requirement already satisfied: pymorphy2 in /usr/local/lib/python3.8/dist-packages (0.9.1)\n",
            "Requirement already satisfied: dawg-python>=0.7.1 in /usr/local/lib/python3.8/dist-packages (from pymorphy2) (0.7.2)\n",
            "Requirement already satisfied: pymorphy2-dicts-ru<3.0,>=2.4 in /usr/local/lib/python3.8/dist-packages (from pymorphy2) (2.4.417127.4579844)\n",
            "Requirement already satisfied: docopt>=0.6 in /usr/local/lib/python3.8/dist-packages (from pymorphy2) (0.6.2)\n"
          ]
        }
      ]
    },
    {
      "cell_type": "code",
      "source": [
        "import pandas as pd\n",
        "import numpy as np\n",
        "import math\n",
        "import nltk \n",
        "import string\n",
        "from sklearn.metrics import * \n",
        "from sklearn.model_selection import train_test_split\n",
        "from pymorphy2 import MorphAnalyzer\n",
        "from sklearn.naive_bayes import MultinomialNB\n",
        "from sklearn.feature_extraction.text import CountVectorizer\n",
        "from sklearn.feature_extraction.text import TfidfVectorizer"
      ],
      "metadata": {
        "id": "cRHqOd4Z8aGP"
      },
      "execution_count": null,
      "outputs": []
    },
    {
      "cell_type": "code",
      "source": [
        "from nltk.tokenize import word_tokenize\n",
        "from nltk.corpus import stopwords\n",
        "nltk.download('stopwords')\n",
        "nltk.download('punkt')"
      ],
      "metadata": {
        "id": "qNMj-Za_8fx3",
        "colab": {
          "base_uri": "https://localhost:8080/"
        },
        "outputId": "67cd5016-f0d1-46a4-e8bb-57a476dbac56"
      },
      "execution_count": null,
      "outputs": [
        {
          "output_type": "stream",
          "name": "stderr",
          "text": [
            "[nltk_data] Downloading package stopwords to /root/nltk_data...\n",
            "[nltk_data]   Unzipping corpora/stopwords.zip.\n",
            "[nltk_data] Downloading package punkt to /root/nltk_data...\n",
            "[nltk_data]   Unzipping tokenizers/punkt.zip.\n"
          ]
        },
        {
          "output_type": "execute_result",
          "data": {
            "text/plain": [
              "True"
            ]
          },
          "metadata": {},
          "execution_count": 4
        }
      ]
    },
    {
      "cell_type": "code",
      "source": [
        "!gdown 1XBVRjzM3pOja1fIjrVQDifnXtcJDS927"
      ],
      "metadata": {
        "colab": {
          "base_uri": "https://localhost:8080/"
        },
        "id": "1s6vRMlP8q6-",
        "outputId": "940e277f-7b59-4140-fc1e-72d7a8a8f2d1"
      },
      "execution_count": null,
      "outputs": [
        {
          "output_type": "stream",
          "name": "stdout",
          "text": [
            "Downloading...\n",
            "From: https://drive.google.com/uc?id=1XBVRjzM3pOja1fIjrVQDifnXtcJDS927\n",
            "To: /content/women-clothing-accessories.csv\n",
            "100% 21.8M/21.8M [00:00<00:00, 69.4MB/s]\n"
          ]
        }
      ]
    },
    {
      "cell_type": "markdown",
      "source": [
        "# Загрузим датасет и получим необходимую информацию о нем."
      ],
      "metadata": {
        "id": "03ZdtYT8aw7q"
      }
    },
    {
      "cell_type": "code",
      "source": [
        "df = pd.read_csv(\"/content/women-clothing-accessories.csv\", sep='\\t', usecols=[0, 1])"
      ],
      "metadata": {
        "id": "NbMJo_l49yY4"
      },
      "execution_count": null,
      "outputs": []
    },
    {
      "cell_type": "code",
      "source": [
        "df.head(3)"
      ],
      "metadata": {
        "colab": {
          "base_uri": "https://localhost:8080/",
          "height": 143
        },
        "id": "bQgCGZCJ-xK3",
        "outputId": "3e002ded-d535-4f82-c20a-3f3ae4edd53c"
      },
      "execution_count": null,
      "outputs": [
        {
          "output_type": "execute_result",
          "data": {
            "text/plain": [
              "                                              review sentiment\n",
              "0  качество плохое пошив ужасный (горловина напер...  negative\n",
              "1  Товар отдали другому человеку, я не получила п...  negative\n",
              "2  Ужасная синтетика! Тонкая, ничего общего с пре...  negative"
            ],
            "text/html": [
              "\n",
              "  <div id=\"df-56974143-381b-4ddf-8e8a-c6415a1071c4\">\n",
              "    <div class=\"colab-df-container\">\n",
              "      <div>\n",
              "<style scoped>\n",
              "    .dataframe tbody tr th:only-of-type {\n",
              "        vertical-align: middle;\n",
              "    }\n",
              "\n",
              "    .dataframe tbody tr th {\n",
              "        vertical-align: top;\n",
              "    }\n",
              "\n",
              "    .dataframe thead th {\n",
              "        text-align: right;\n",
              "    }\n",
              "</style>\n",
              "<table border=\"1\" class=\"dataframe\">\n",
              "  <thead>\n",
              "    <tr style=\"text-align: right;\">\n",
              "      <th></th>\n",
              "      <th>review</th>\n",
              "      <th>sentiment</th>\n",
              "    </tr>\n",
              "  </thead>\n",
              "  <tbody>\n",
              "    <tr>\n",
              "      <th>0</th>\n",
              "      <td>качество плохое пошив ужасный (горловина напер...</td>\n",
              "      <td>negative</td>\n",
              "    </tr>\n",
              "    <tr>\n",
              "      <th>1</th>\n",
              "      <td>Товар отдали другому человеку, я не получила п...</td>\n",
              "      <td>negative</td>\n",
              "    </tr>\n",
              "    <tr>\n",
              "      <th>2</th>\n",
              "      <td>Ужасная синтетика! Тонкая, ничего общего с пре...</td>\n",
              "      <td>negative</td>\n",
              "    </tr>\n",
              "  </tbody>\n",
              "</table>\n",
              "</div>\n",
              "      <button class=\"colab-df-convert\" onclick=\"convertToInteractive('df-56974143-381b-4ddf-8e8a-c6415a1071c4')\"\n",
              "              title=\"Convert this dataframe to an interactive table.\"\n",
              "              style=\"display:none;\">\n",
              "        \n",
              "  <svg xmlns=\"http://www.w3.org/2000/svg\" height=\"24px\"viewBox=\"0 0 24 24\"\n",
              "       width=\"24px\">\n",
              "    <path d=\"M0 0h24v24H0V0z\" fill=\"none\"/>\n",
              "    <path d=\"M18.56 5.44l.94 2.06.94-2.06 2.06-.94-2.06-.94-.94-2.06-.94 2.06-2.06.94zm-11 1L8.5 8.5l.94-2.06 2.06-.94-2.06-.94L8.5 2.5l-.94 2.06-2.06.94zm10 10l.94 2.06.94-2.06 2.06-.94-2.06-.94-.94-2.06-.94 2.06-2.06.94z\"/><path d=\"M17.41 7.96l-1.37-1.37c-.4-.4-.92-.59-1.43-.59-.52 0-1.04.2-1.43.59L10.3 9.45l-7.72 7.72c-.78.78-.78 2.05 0 2.83L4 21.41c.39.39.9.59 1.41.59.51 0 1.02-.2 1.41-.59l7.78-7.78 2.81-2.81c.8-.78.8-2.07 0-2.86zM5.41 20L4 18.59l7.72-7.72 1.47 1.35L5.41 20z\"/>\n",
              "  </svg>\n",
              "      </button>\n",
              "      \n",
              "  <style>\n",
              "    .colab-df-container {\n",
              "      display:flex;\n",
              "      flex-wrap:wrap;\n",
              "      gap: 12px;\n",
              "    }\n",
              "\n",
              "    .colab-df-convert {\n",
              "      background-color: #E8F0FE;\n",
              "      border: none;\n",
              "      border-radius: 50%;\n",
              "      cursor: pointer;\n",
              "      display: none;\n",
              "      fill: #1967D2;\n",
              "      height: 32px;\n",
              "      padding: 0 0 0 0;\n",
              "      width: 32px;\n",
              "    }\n",
              "\n",
              "    .colab-df-convert:hover {\n",
              "      background-color: #E2EBFA;\n",
              "      box-shadow: 0px 1px 2px rgba(60, 64, 67, 0.3), 0px 1px 3px 1px rgba(60, 64, 67, 0.15);\n",
              "      fill: #174EA6;\n",
              "    }\n",
              "\n",
              "    [theme=dark] .colab-df-convert {\n",
              "      background-color: #3B4455;\n",
              "      fill: #D2E3FC;\n",
              "    }\n",
              "\n",
              "    [theme=dark] .colab-df-convert:hover {\n",
              "      background-color: #434B5C;\n",
              "      box-shadow: 0px 1px 3px 1px rgba(0, 0, 0, 0.15);\n",
              "      filter: drop-shadow(0px 1px 2px rgba(0, 0, 0, 0.3));\n",
              "      fill: #FFFFFF;\n",
              "    }\n",
              "  </style>\n",
              "\n",
              "      <script>\n",
              "        const buttonEl =\n",
              "          document.querySelector('#df-56974143-381b-4ddf-8e8a-c6415a1071c4 button.colab-df-convert');\n",
              "        buttonEl.style.display =\n",
              "          google.colab.kernel.accessAllowed ? 'block' : 'none';\n",
              "\n",
              "        async function convertToInteractive(key) {\n",
              "          const element = document.querySelector('#df-56974143-381b-4ddf-8e8a-c6415a1071c4');\n",
              "          const dataTable =\n",
              "            await google.colab.kernel.invokeFunction('convertToInteractive',\n",
              "                                                     [key], {});\n",
              "          if (!dataTable) return;\n",
              "\n",
              "          const docLinkHtml = 'Like what you see? Visit the ' +\n",
              "            '<a target=\"_blank\" href=https://colab.research.google.com/notebooks/data_table.ipynb>data table notebook</a>'\n",
              "            + ' to learn more about interactive tables.';\n",
              "          element.innerHTML = '';\n",
              "          dataTable['output_type'] = 'display_data';\n",
              "          await google.colab.output.renderOutput(dataTable, element);\n",
              "          const docLink = document.createElement('div');\n",
              "          docLink.innerHTML = docLinkHtml;\n",
              "          element.appendChild(docLink);\n",
              "        }\n",
              "      </script>\n",
              "    </div>\n",
              "  </div>\n",
              "  "
            ]
          },
          "metadata": {},
          "execution_count": 7
        }
      ]
    },
    {
      "cell_type": "code",
      "source": [
        "df.info()"
      ],
      "metadata": {
        "colab": {
          "base_uri": "https://localhost:8080/"
        },
        "id": "-NDwm69A-1I3",
        "outputId": "3ccdf9b1-15e0-4a8c-a7de-55839a47e35c"
      },
      "execution_count": null,
      "outputs": [
        {
          "output_type": "stream",
          "name": "stdout",
          "text": [
            "<class 'pandas.core.frame.DataFrame'>\n",
            "RangeIndex: 90000 entries, 0 to 89999\n",
            "Data columns (total 2 columns):\n",
            " #   Column     Non-Null Count  Dtype \n",
            "---  ------     --------------  ----- \n",
            " 0   review     90000 non-null  object\n",
            " 1   sentiment  90000 non-null  object\n",
            "dtypes: object(2)\n",
            "memory usage: 1.4+ MB\n"
          ]
        }
      ]
    },
    {
      "cell_type": "code",
      "source": [
        "df.describe()"
      ],
      "metadata": {
        "colab": {
          "base_uri": "https://localhost:8080/",
          "height": 175
        },
        "id": "oPFMebod_MX4",
        "outputId": "62ba7c33-b11a-41b8-8dd8-1458ff335637"
      },
      "execution_count": null,
      "outputs": [
        {
          "output_type": "execute_result",
          "data": {
            "text/plain": [
              "                  review sentiment\n",
              "count              90000     90000\n",
              "unique             87321         3\n",
              "top     Товар не пришёл   negative\n",
              "freq                  58     30000"
            ],
            "text/html": [
              "\n",
              "  <div id=\"df-6ec0bea6-2b38-4650-9a0a-88bc2c6cd23e\">\n",
              "    <div class=\"colab-df-container\">\n",
              "      <div>\n",
              "<style scoped>\n",
              "    .dataframe tbody tr th:only-of-type {\n",
              "        vertical-align: middle;\n",
              "    }\n",
              "\n",
              "    .dataframe tbody tr th {\n",
              "        vertical-align: top;\n",
              "    }\n",
              "\n",
              "    .dataframe thead th {\n",
              "        text-align: right;\n",
              "    }\n",
              "</style>\n",
              "<table border=\"1\" class=\"dataframe\">\n",
              "  <thead>\n",
              "    <tr style=\"text-align: right;\">\n",
              "      <th></th>\n",
              "      <th>review</th>\n",
              "      <th>sentiment</th>\n",
              "    </tr>\n",
              "  </thead>\n",
              "  <tbody>\n",
              "    <tr>\n",
              "      <th>count</th>\n",
              "      <td>90000</td>\n",
              "      <td>90000</td>\n",
              "    </tr>\n",
              "    <tr>\n",
              "      <th>unique</th>\n",
              "      <td>87321</td>\n",
              "      <td>3</td>\n",
              "    </tr>\n",
              "    <tr>\n",
              "      <th>top</th>\n",
              "      <td>Товар не пришёл</td>\n",
              "      <td>negative</td>\n",
              "    </tr>\n",
              "    <tr>\n",
              "      <th>freq</th>\n",
              "      <td>58</td>\n",
              "      <td>30000</td>\n",
              "    </tr>\n",
              "  </tbody>\n",
              "</table>\n",
              "</div>\n",
              "      <button class=\"colab-df-convert\" onclick=\"convertToInteractive('df-6ec0bea6-2b38-4650-9a0a-88bc2c6cd23e')\"\n",
              "              title=\"Convert this dataframe to an interactive table.\"\n",
              "              style=\"display:none;\">\n",
              "        \n",
              "  <svg xmlns=\"http://www.w3.org/2000/svg\" height=\"24px\"viewBox=\"0 0 24 24\"\n",
              "       width=\"24px\">\n",
              "    <path d=\"M0 0h24v24H0V0z\" fill=\"none\"/>\n",
              "    <path d=\"M18.56 5.44l.94 2.06.94-2.06 2.06-.94-2.06-.94-.94-2.06-.94 2.06-2.06.94zm-11 1L8.5 8.5l.94-2.06 2.06-.94-2.06-.94L8.5 2.5l-.94 2.06-2.06.94zm10 10l.94 2.06.94-2.06 2.06-.94-2.06-.94-.94-2.06-.94 2.06-2.06.94z\"/><path d=\"M17.41 7.96l-1.37-1.37c-.4-.4-.92-.59-1.43-.59-.52 0-1.04.2-1.43.59L10.3 9.45l-7.72 7.72c-.78.78-.78 2.05 0 2.83L4 21.41c.39.39.9.59 1.41.59.51 0 1.02-.2 1.41-.59l7.78-7.78 2.81-2.81c.8-.78.8-2.07 0-2.86zM5.41 20L4 18.59l7.72-7.72 1.47 1.35L5.41 20z\"/>\n",
              "  </svg>\n",
              "      </button>\n",
              "      \n",
              "  <style>\n",
              "    .colab-df-container {\n",
              "      display:flex;\n",
              "      flex-wrap:wrap;\n",
              "      gap: 12px;\n",
              "    }\n",
              "\n",
              "    .colab-df-convert {\n",
              "      background-color: #E8F0FE;\n",
              "      border: none;\n",
              "      border-radius: 50%;\n",
              "      cursor: pointer;\n",
              "      display: none;\n",
              "      fill: #1967D2;\n",
              "      height: 32px;\n",
              "      padding: 0 0 0 0;\n",
              "      width: 32px;\n",
              "    }\n",
              "\n",
              "    .colab-df-convert:hover {\n",
              "      background-color: #E2EBFA;\n",
              "      box-shadow: 0px 1px 2px rgba(60, 64, 67, 0.3), 0px 1px 3px 1px rgba(60, 64, 67, 0.15);\n",
              "      fill: #174EA6;\n",
              "    }\n",
              "\n",
              "    [theme=dark] .colab-df-convert {\n",
              "      background-color: #3B4455;\n",
              "      fill: #D2E3FC;\n",
              "    }\n",
              "\n",
              "    [theme=dark] .colab-df-convert:hover {\n",
              "      background-color: #434B5C;\n",
              "      box-shadow: 0px 1px 3px 1px rgba(0, 0, 0, 0.15);\n",
              "      filter: drop-shadow(0px 1px 2px rgba(0, 0, 0, 0.3));\n",
              "      fill: #FFFFFF;\n",
              "    }\n",
              "  </style>\n",
              "\n",
              "      <script>\n",
              "        const buttonEl =\n",
              "          document.querySelector('#df-6ec0bea6-2b38-4650-9a0a-88bc2c6cd23e button.colab-df-convert');\n",
              "        buttonEl.style.display =\n",
              "          google.colab.kernel.accessAllowed ? 'block' : 'none';\n",
              "\n",
              "        async function convertToInteractive(key) {\n",
              "          const element = document.querySelector('#df-6ec0bea6-2b38-4650-9a0a-88bc2c6cd23e');\n",
              "          const dataTable =\n",
              "            await google.colab.kernel.invokeFunction('convertToInteractive',\n",
              "                                                     [key], {});\n",
              "          if (!dataTable) return;\n",
              "\n",
              "          const docLinkHtml = 'Like what you see? Visit the ' +\n",
              "            '<a target=\"_blank\" href=https://colab.research.google.com/notebooks/data_table.ipynb>data table notebook</a>'\n",
              "            + ' to learn more about interactive tables.';\n",
              "          element.innerHTML = '';\n",
              "          dataTable['output_type'] = 'display_data';\n",
              "          await google.colab.output.renderOutput(dataTable, element);\n",
              "          const docLink = document.createElement('div');\n",
              "          docLink.innerHTML = docLinkHtml;\n",
              "          element.appendChild(docLink);\n",
              "        }\n",
              "      </script>\n",
              "    </div>\n",
              "  </div>\n",
              "  "
            ]
          },
          "metadata": {},
          "execution_count": 9
        }
      ]
    },
    {
      "cell_type": "code",
      "source": [
        "df['sentiment'].value_counts()"
      ],
      "metadata": {
        "colab": {
          "base_uri": "https://localhost:8080/"
        },
        "id": "fQitPr9j_Oho",
        "outputId": "dd945608-2efd-4dc7-f7d0-5301efc3e67d"
      },
      "execution_count": null,
      "outputs": [
        {
          "output_type": "execute_result",
          "data": {
            "text/plain": [
              "negative    30000\n",
              "neautral    30000\n",
              "positive    30000\n",
              "Name: sentiment, dtype: int64"
            ]
          },
          "metadata": {},
          "execution_count": 10
        }
      ]
    },
    {
      "cell_type": "markdown",
      "source": [
        "# Проведем предобработку данных."
      ],
      "metadata": {
        "id": "Ux8dO9X5a7Iw"
      }
    },
    {
      "cell_type": "code",
      "source": [
        "def data_preprocessing(data_series):\n",
        "  #Токенизация\n",
        "  data_series = data_series.apply(word_tokenize)\n",
        "\n",
        "  #Приведение к нижнему регистру\n",
        "  data_series = data_series.apply(lambda sentence: [word.lower() for word in sentence])\n",
        "\n",
        "  #Лемматизация\n",
        "  pymorphy2_analyzer = MorphAnalyzer()\n",
        "  data_series = data_series.apply(lambda sentence: [pymorphy2_analyzer.parse(word)[0].normal_form for word in sentence])\n",
        "\n",
        "  #Удаление стоп-слов\n",
        "  noice = set(stopwords.words('russian'))\n",
        "  data_series = data_series.apply(lambda sentence: [word for word in sentence if word not in noice])\n",
        "\n",
        "\n",
        "  data_series = data_series.apply(lambda sentence: ' '.join(sentence))\n",
        "  return data_series"
      ],
      "metadata": {
        "id": "UflilRuz_hmJ"
      },
      "execution_count": null,
      "outputs": []
    },
    {
      "cell_type": "code",
      "source": [
        "x_train, x_test, y_train, y_test = train_test_split(df.review, df.sentiment, train_size = 0.8)"
      ],
      "metadata": {
        "id": "0pvuCBqI_vhJ"
      },
      "execution_count": null,
      "outputs": []
    },
    {
      "cell_type": "code",
      "source": [
        "x_train_preprocessed = data_preprocessing(x_train)\n",
        "x_test_preprocessed = data_preprocessing(x_test)"
      ],
      "metadata": {
        "id": "m1sGbQ2F_zgI"
      },
      "execution_count": null,
      "outputs": []
    },
    {
      "cell_type": "markdown",
      "source": [
        "#Мешок n-gram (1,1)"
      ],
      "metadata": {
        "id": "7irbKoPXBrbQ"
      }
    },
    {
      "cell_type": "markdown",
      "source": [
        "## n-gram range(1,1)"
      ],
      "metadata": {
        "id": "tjxNvyOsB7OZ"
      }
    },
    {
      "cell_type": "code",
      "source": [
        "'''\n",
        " Объявляем векторизатор. \n",
        " Векторизатор преобразует слово или набор слов в числовой вектор, понятный алгоритму машинного обучения, \n",
        " который привык работать с числовыми табличными данными. \n",
        " '''\n",
        "vectorizer_CountVectorizer_ng11 = CountVectorizer(ngram_range=(1, 1))\n",
        "\n",
        "vectorized_x_train = vectorizer_CountVectorizer_ng11.fit_transform(x_train_preprocessed)\n",
        "vectorized_x_test = vectorizer_CountVectorizer_ng11.transform(x_test_preprocessed)\n",
        "\n",
        "# Наивный Байесовский классификатор\n",
        "clf = MultinomialNB()\n",
        "clf.fit(vectorized_x_train, y_train)\n",
        "y_pred = clf.predict(vectorized_x_test)\n",
        "\n",
        "# Будем записывать результаты в датафрейм, чтобы в конце сравнить результаты\n",
        "comparison_df = pd.DataFrame(\n",
        "    {'precision': [precision_score(y_test, y_pred, average='weighted')],\n",
        "     'recall': [recall_score(y_test, y_pred, average='weighted')],\n",
        "     'f1': [f1_score(y_test, y_pred, average='weighted')],\n",
        "     'accuracy': [accuracy_score(y_test, y_pred)]}, \n",
        "    index=['vectorizer_CountVectorizer_ng11'])"
      ],
      "metadata": {
        "id": "DBEC1cRRBYbR"
      },
      "execution_count": null,
      "outputs": []
    },
    {
      "cell_type": "markdown",
      "source": [
        "## n-gram range (1,2)"
      ],
      "metadata": {
        "id": "tTTrInsdC9vB"
      }
    },
    {
      "cell_type": "code",
      "source": [
        "vectorizer_CountVectorizer_ng12 = CountVectorizer(ngram_range=(1, 2))\n",
        "\n",
        "vectorized_x_train = vectorizer_CountVectorizer_ng12.fit_transform(x_train_preprocessed)\n",
        "vectorized_x_test = vectorizer_CountVectorizer_ng12.transform(x_test_preprocessed)\n",
        "\n",
        "clf = MultinomialNB()\n",
        "clf.fit(vectorized_x_train, y_train)\n",
        "y_pred = clf.predict(vectorized_x_test)\n",
        "\n",
        "new_df = pd.DataFrame(\n",
        "    {'precision': [precision_score(y_test, y_pred, average='weighted')],\n",
        "     'recall': [recall_score(y_test, y_pred, average='weighted')],\n",
        "     'f1': [f1_score(y_test, y_pred, average='weighted')],\n",
        "     'accuracy': [accuracy_score(y_test, y_pred)]}, \n",
        "    index=['vectorizer_CountVectorizer_ng12'])\n",
        "\n",
        "comparison_df = comparison_df.append(new_df)"
      ],
      "metadata": {
        "id": "5mZXCwAzDIgZ"
      },
      "execution_count": null,
      "outputs": []
    },
    {
      "cell_type": "markdown",
      "source": [
        "## n-gram range(1,3)"
      ],
      "metadata": {
        "id": "4zUIzFpzDQEZ"
      }
    },
    {
      "cell_type": "code",
      "source": [
        "vectorizer_CountVectorizer_ng13 = CountVectorizer(ngram_range=(1, 3))\n",
        "\n",
        "vectorized_x_train = vectorizer_CountVectorizer_ng13.fit_transform(x_train_preprocessed)\n",
        "vectorized_x_test = vectorizer_CountVectorizer_ng13.transform(x_test_preprocessed)\n",
        "\n",
        "clf = MultinomialNB()\n",
        "clf.fit(vectorized_x_train, y_train)\n",
        "y_pred = clf.predict(vectorized_x_test)\n",
        "\n",
        "new_df = pd.DataFrame(\n",
        "    {'precision': [precision_score(y_test, y_pred, average='weighted')],\n",
        "     'recall': [recall_score(y_test, y_pred, average='weighted')],\n",
        "     'f1': [f1_score(y_test, y_pred, average='weighted')],\n",
        "     'accuracy': [accuracy_score(y_test, y_pred)]}, \n",
        "    index=['vectorizer_CountVectorizer_ng13'])\n",
        "\n",
        "comparison_df = comparison_df.append(new_df)"
      ],
      "metadata": {
        "id": "a66bQIUmDU9z"
      },
      "execution_count": null,
      "outputs": []
    },
    {
      "cell_type": "markdown",
      "source": [
        "## n-gram range(2,2)"
      ],
      "metadata": {
        "id": "CMPZn4IACWMY"
      }
    },
    {
      "cell_type": "code",
      "source": [
        "vectorizer_CountVectorizer_ng11 = CountVectorizer(ngram_range=(2, 2))\n",
        "\n",
        "vectorized_x_train = vectorizer_CountVectorizer_ng11.fit_transform(x_train_preprocessed)\n",
        "vectorized_x_test = vectorizer_CountVectorizer_ng11.transform(x_test_preprocessed)\n",
        "\n",
        "clf = MultinomialNB()\n",
        "clf.fit(vectorized_x_train, y_train)\n",
        "y_pred = clf.predict(vectorized_x_test)\n",
        "new_df = pd.DataFrame(\n",
        "    {'precision': [precision_score(y_test, y_pred, average='weighted')],\n",
        "     'recall': [recall_score(y_test, y_pred, average='weighted')],\n",
        "     'f1': [f1_score(y_test, y_pred, average='weighted')],\n",
        "     'accuracy': [accuracy_score(y_test, y_pred)]}, \n",
        "    index=['vectorizer_CountVectorizer_ng22'])\n",
        "comparison_df = comparison_df.append(new_df)"
      ],
      "metadata": {
        "id": "BnI8EYcDCaZp"
      },
      "execution_count": null,
      "outputs": []
    },
    {
      "cell_type": "markdown",
      "source": [
        "## n-gram range(2,3)"
      ],
      "metadata": {
        "id": "iBVwXQJ1Dvq5"
      }
    },
    {
      "cell_type": "code",
      "source": [
        "vectorizer_CountVectorizer_ng11 = CountVectorizer(ngram_range=(2, 3))\n",
        "\n",
        "vectorized_x_train = vectorizer_CountVectorizer_ng11.fit_transform(x_train_preprocessed)\n",
        "vectorized_x_test = vectorizer_CountVectorizer_ng11.transform(x_test_preprocessed)\n",
        "\n",
        "clf = MultinomialNB()\n",
        "clf.fit(vectorized_x_train, y_train)\n",
        "y_pred = clf.predict(vectorized_x_test)\n",
        "new_df = pd.DataFrame(\n",
        "    {'precision': [precision_score(y_test, y_pred, average='weighted')],\n",
        "     'recall': [recall_score(y_test, y_pred, average='weighted')],\n",
        "     'f1': [f1_score(y_test, y_pred, average='weighted')],\n",
        "     'accuracy': [accuracy_score(y_test, y_pred)]}, \n",
        "    index=['vectorizer_CountVectorizer_ng23'])\n",
        "comparison_df = comparison_df.append(new_df)"
      ],
      "metadata": {
        "id": "K_V-F_lMDyj4"
      },
      "execution_count": null,
      "outputs": []
    },
    {
      "cell_type": "markdown",
      "source": [
        "##n-gram (2, 4)"
      ],
      "metadata": {
        "id": "kjaxkiSXEDCR"
      }
    },
    {
      "cell_type": "code",
      "source": [
        "vectorizer_CountVectorizer_ng24 = CountVectorizer(ngram_range=(2, 4))\n",
        "\n",
        "vectorized_x_train = vectorizer_CountVectorizer_ng24.fit_transform(x_train_preprocessed)\n",
        "vectorized_x_test = vectorizer_CountVectorizer_ng24.transform(x_test_preprocessed)\n",
        "\n",
        "clf = MultinomialNB()\n",
        "clf.fit(vectorized_x_train, y_train)\n",
        "y_pred = clf.predict(vectorized_x_test)\n",
        "\n",
        "new_df = pd.DataFrame(\n",
        "    {'precision': [precision_score(y_test, y_pred, average='weighted')],\n",
        "     'recall': [recall_score(y_test, y_pred, average='weighted')],\n",
        "     'f1': [f1_score(y_test, y_pred, average='weighted')],\n",
        "     'accuracy': [accuracy_score(y_test, y_pred)]}, \n",
        "    index=['vectorizer_CountVectorizer_ng24'])\n",
        "\n",
        "comparison_df = comparison_df.append(new_df)"
      ],
      "metadata": {
        "id": "T_mm4R1eC22x"
      },
      "execution_count": null,
      "outputs": []
    },
    {
      "cell_type": "markdown",
      "source": [
        "## n-gram (3, 3)"
      ],
      "metadata": {
        "id": "MAFH4O5LEP3x"
      }
    },
    {
      "cell_type": "code",
      "source": [
        "vectorizer_CountVectorizer_ng24 = CountVectorizer(ngram_range=(3, 3))\n",
        "\n",
        "vectorized_x_train = vectorizer_CountVectorizer_ng24.fit_transform(x_train_preprocessed)\n",
        "vectorized_x_test = vectorizer_CountVectorizer_ng24.transform(x_test_preprocessed)\n",
        "\n",
        "clf = MultinomialNB()\n",
        "clf.fit(vectorized_x_train, y_train)\n",
        "y_pred = clf.predict(vectorized_x_test)\n",
        "\n",
        "new_df = pd.DataFrame(\n",
        "    {'precision': [precision_score(y_test, y_pred, average='weighted')],\n",
        "     'recall': [recall_score(y_test, y_pred, average='weighted')],\n",
        "     'f1': [f1_score(y_test, y_pred, average='weighted')],\n",
        "     'accuracy': [accuracy_score(y_test, y_pred)]}, \n",
        "    index=['vectorizer_CountVectorizer_ng33'])\n",
        "\n",
        "comparison_df = comparison_df.append(new_df)"
      ],
      "metadata": {
        "id": "M6UeF8xFEBDx"
      },
      "execution_count": null,
      "outputs": []
    },
    {
      "cell_type": "markdown",
      "source": [
        "Текущее состояние датафрейма"
      ],
      "metadata": {
        "id": "8webclIwXuHw"
      }
    },
    {
      "cell_type": "code",
      "source": [
        "comparison_df"
      ],
      "metadata": {
        "colab": {
          "base_uri": "https://localhost:8080/",
          "height": 269
        },
        "id": "3OVkYMXOXyC_",
        "outputId": "2b577c4d-78be-4e8c-f97e-2ad6beac84b0"
      },
      "execution_count": null,
      "outputs": [
        {
          "output_type": "execute_result",
          "data": {
            "text/plain": [
              "                                 precision    recall        f1  accuracy\n",
              "vectorizer_CountVectorizer_ng11   0.709831  0.703167  0.703724  0.703167\n",
              "vectorizer_CountVectorizer_ng12   0.721927  0.719389  0.719457  0.719389\n",
              "vectorizer_CountVectorizer_ng13   0.718108  0.717556  0.717256  0.717556\n",
              "vectorizer_CountVectorizer_ng22   0.692024  0.690667  0.690765  0.690667\n",
              "vectorizer_CountVectorizer_ng23   0.683873  0.685056  0.684105  0.685056\n",
              "vectorizer_CountVectorizer_ng24   0.681791  0.683500  0.682318  0.683500\n",
              "vectorizer_CountVectorizer_ng33   0.614148  0.595056  0.599782  0.595056"
            ],
            "text/html": [
              "\n",
              "  <div id=\"df-06446912-70a0-47b8-8275-e42ccb2c851e\">\n",
              "    <div class=\"colab-df-container\">\n",
              "      <div>\n",
              "<style scoped>\n",
              "    .dataframe tbody tr th:only-of-type {\n",
              "        vertical-align: middle;\n",
              "    }\n",
              "\n",
              "    .dataframe tbody tr th {\n",
              "        vertical-align: top;\n",
              "    }\n",
              "\n",
              "    .dataframe thead th {\n",
              "        text-align: right;\n",
              "    }\n",
              "</style>\n",
              "<table border=\"1\" class=\"dataframe\">\n",
              "  <thead>\n",
              "    <tr style=\"text-align: right;\">\n",
              "      <th></th>\n",
              "      <th>precision</th>\n",
              "      <th>recall</th>\n",
              "      <th>f1</th>\n",
              "      <th>accuracy</th>\n",
              "    </tr>\n",
              "  </thead>\n",
              "  <tbody>\n",
              "    <tr>\n",
              "      <th>vectorizer_CountVectorizer_ng11</th>\n",
              "      <td>0.709831</td>\n",
              "      <td>0.703167</td>\n",
              "      <td>0.703724</td>\n",
              "      <td>0.703167</td>\n",
              "    </tr>\n",
              "    <tr>\n",
              "      <th>vectorizer_CountVectorizer_ng12</th>\n",
              "      <td>0.721927</td>\n",
              "      <td>0.719389</td>\n",
              "      <td>0.719457</td>\n",
              "      <td>0.719389</td>\n",
              "    </tr>\n",
              "    <tr>\n",
              "      <th>vectorizer_CountVectorizer_ng13</th>\n",
              "      <td>0.718108</td>\n",
              "      <td>0.717556</td>\n",
              "      <td>0.717256</td>\n",
              "      <td>0.717556</td>\n",
              "    </tr>\n",
              "    <tr>\n",
              "      <th>vectorizer_CountVectorizer_ng22</th>\n",
              "      <td>0.692024</td>\n",
              "      <td>0.690667</td>\n",
              "      <td>0.690765</td>\n",
              "      <td>0.690667</td>\n",
              "    </tr>\n",
              "    <tr>\n",
              "      <th>vectorizer_CountVectorizer_ng23</th>\n",
              "      <td>0.683873</td>\n",
              "      <td>0.685056</td>\n",
              "      <td>0.684105</td>\n",
              "      <td>0.685056</td>\n",
              "    </tr>\n",
              "    <tr>\n",
              "      <th>vectorizer_CountVectorizer_ng24</th>\n",
              "      <td>0.681791</td>\n",
              "      <td>0.683500</td>\n",
              "      <td>0.682318</td>\n",
              "      <td>0.683500</td>\n",
              "    </tr>\n",
              "    <tr>\n",
              "      <th>vectorizer_CountVectorizer_ng33</th>\n",
              "      <td>0.614148</td>\n",
              "      <td>0.595056</td>\n",
              "      <td>0.599782</td>\n",
              "      <td>0.595056</td>\n",
              "    </tr>\n",
              "  </tbody>\n",
              "</table>\n",
              "</div>\n",
              "      <button class=\"colab-df-convert\" onclick=\"convertToInteractive('df-06446912-70a0-47b8-8275-e42ccb2c851e')\"\n",
              "              title=\"Convert this dataframe to an interactive table.\"\n",
              "              style=\"display:none;\">\n",
              "        \n",
              "  <svg xmlns=\"http://www.w3.org/2000/svg\" height=\"24px\"viewBox=\"0 0 24 24\"\n",
              "       width=\"24px\">\n",
              "    <path d=\"M0 0h24v24H0V0z\" fill=\"none\"/>\n",
              "    <path d=\"M18.56 5.44l.94 2.06.94-2.06 2.06-.94-2.06-.94-.94-2.06-.94 2.06-2.06.94zm-11 1L8.5 8.5l.94-2.06 2.06-.94-2.06-.94L8.5 2.5l-.94 2.06-2.06.94zm10 10l.94 2.06.94-2.06 2.06-.94-2.06-.94-.94-2.06-.94 2.06-2.06.94z\"/><path d=\"M17.41 7.96l-1.37-1.37c-.4-.4-.92-.59-1.43-.59-.52 0-1.04.2-1.43.59L10.3 9.45l-7.72 7.72c-.78.78-.78 2.05 0 2.83L4 21.41c.39.39.9.59 1.41.59.51 0 1.02-.2 1.41-.59l7.78-7.78 2.81-2.81c.8-.78.8-2.07 0-2.86zM5.41 20L4 18.59l7.72-7.72 1.47 1.35L5.41 20z\"/>\n",
              "  </svg>\n",
              "      </button>\n",
              "      \n",
              "  <style>\n",
              "    .colab-df-container {\n",
              "      display:flex;\n",
              "      flex-wrap:wrap;\n",
              "      gap: 12px;\n",
              "    }\n",
              "\n",
              "    .colab-df-convert {\n",
              "      background-color: #E8F0FE;\n",
              "      border: none;\n",
              "      border-radius: 50%;\n",
              "      cursor: pointer;\n",
              "      display: none;\n",
              "      fill: #1967D2;\n",
              "      height: 32px;\n",
              "      padding: 0 0 0 0;\n",
              "      width: 32px;\n",
              "    }\n",
              "\n",
              "    .colab-df-convert:hover {\n",
              "      background-color: #E2EBFA;\n",
              "      box-shadow: 0px 1px 2px rgba(60, 64, 67, 0.3), 0px 1px 3px 1px rgba(60, 64, 67, 0.15);\n",
              "      fill: #174EA6;\n",
              "    }\n",
              "\n",
              "    [theme=dark] .colab-df-convert {\n",
              "      background-color: #3B4455;\n",
              "      fill: #D2E3FC;\n",
              "    }\n",
              "\n",
              "    [theme=dark] .colab-df-convert:hover {\n",
              "      background-color: #434B5C;\n",
              "      box-shadow: 0px 1px 3px 1px rgba(0, 0, 0, 0.15);\n",
              "      filter: drop-shadow(0px 1px 2px rgba(0, 0, 0, 0.3));\n",
              "      fill: #FFFFFF;\n",
              "    }\n",
              "  </style>\n",
              "\n",
              "      <script>\n",
              "        const buttonEl =\n",
              "          document.querySelector('#df-06446912-70a0-47b8-8275-e42ccb2c851e button.colab-df-convert');\n",
              "        buttonEl.style.display =\n",
              "          google.colab.kernel.accessAllowed ? 'block' : 'none';\n",
              "\n",
              "        async function convertToInteractive(key) {\n",
              "          const element = document.querySelector('#df-06446912-70a0-47b8-8275-e42ccb2c851e');\n",
              "          const dataTable =\n",
              "            await google.colab.kernel.invokeFunction('convertToInteractive',\n",
              "                                                     [key], {});\n",
              "          if (!dataTable) return;\n",
              "\n",
              "          const docLinkHtml = 'Like what you see? Visit the ' +\n",
              "            '<a target=\"_blank\" href=https://colab.research.google.com/notebooks/data_table.ipynb>data table notebook</a>'\n",
              "            + ' to learn more about interactive tables.';\n",
              "          element.innerHTML = '';\n",
              "          dataTable['output_type'] = 'display_data';\n",
              "          await google.colab.output.renderOutput(dataTable, element);\n",
              "          const docLink = document.createElement('div');\n",
              "          docLink.innerHTML = docLinkHtml;\n",
              "          element.appendChild(docLink);\n",
              "        }\n",
              "      </script>\n",
              "    </div>\n",
              "  </div>\n",
              "  "
            ]
          },
          "metadata": {},
          "execution_count": 21
        }
      ]
    },
    {
      "cell_type": "markdown",
      "source": [
        "#TF-IDF"
      ],
      "metadata": {
        "id": "pafMcTvXEfOr"
      }
    },
    {
      "cell_type": "markdown",
      "source": [
        "## ngram_range=(1, 1)"
      ],
      "metadata": {
        "id": "y5e_3-0VGfMc"
      }
    },
    {
      "cell_type": "code",
      "source": [
        "vectorizer_TfidfVectorizer_ng11 = TfidfVectorizer(ngram_range=(1, 1))\n",
        "\n",
        "vectorized_x_train = vectorizer_TfidfVectorizer_ng11.fit_transform(x_train_preprocessed)\n",
        "vectorized_x_test = vectorizer_TfidfVectorizer_ng11.transform(x_test_preprocessed)\n",
        "\n",
        "clf = MultinomialNB()\n",
        "clf.fit(vectorized_x_train, y_train)\n",
        "y_pred = clf.predict(vectorized_x_test)\n",
        "\n",
        "new_df = pd.DataFrame(\n",
        "    {'precision': [precision_score(y_test, y_pred, average='weighted')],\n",
        "     'recall': [recall_score(y_test, y_pred, average='weighted')],\n",
        "     'f1': [f1_score(y_test, y_pred, average='weighted')],\n",
        "     'accuracy': [accuracy_score(y_test, y_pred)]}, \n",
        "    index=['vectorizer_TfidfVectorizer_ng11'])\n",
        "\n",
        "comparison_df = comparison_df.append(new_df)"
      ],
      "metadata": {
        "id": "DXQoItk5Ga8r"
      },
      "execution_count": null,
      "outputs": []
    },
    {
      "cell_type": "markdown",
      "source": [
        "## ngram_range=(1, 2)"
      ],
      "metadata": {
        "id": "qyDMWCD0Gwyk"
      }
    },
    {
      "cell_type": "code",
      "source": [
        "vectorizer_TfidfVectorizer_ng12 = TfidfVectorizer(ngram_range=(1, 2))\n",
        "\n",
        "vectorized_x_train = vectorizer_TfidfVectorizer_ng12.fit_transform(x_train_preprocessed)\n",
        "vectorized_x_test = vectorizer_TfidfVectorizer_ng12.transform(x_test_preprocessed)\n",
        "\n",
        "clf = MultinomialNB()\n",
        "clf.fit(vectorized_x_train, y_train)\n",
        "y_pred = clf.predict(vectorized_x_test)\n",
        "\n",
        "new_df = pd.DataFrame(\n",
        "    {'precision': [precision_score(y_test, y_pred, average='weighted')],\n",
        "     'recall': [recall_score(y_test, y_pred, average='weighted')],\n",
        "     'f1': [f1_score(y_test, y_pred, average='weighted')],\n",
        "     'accuracy': [accuracy_score(y_test, y_pred)]}, \n",
        "    index=['vectorizer_TfidfVectorizer_ng12'])\n",
        "\n",
        "comparison_df = comparison_df.append(new_df)"
      ],
      "metadata": {
        "id": "LxiH3EH4Gxr0"
      },
      "execution_count": null,
      "outputs": []
    },
    {
      "cell_type": "markdown",
      "source": [
        "#Теперь подберем гиперпараметры max_df, min_df, max_features."
      ],
      "metadata": {
        "id": "nBMi7PvfG23F"
      }
    },
    {
      "cell_type": "code",
      "source": [
        "vocab_len = vectorizer_TfidfVectorizer_ng11.vocabulary_.__len__()\n",
        "vocab_len"
      ],
      "metadata": {
        "colab": {
          "base_uri": "https://localhost:8080/"
        },
        "id": "RP3XayavRMVE",
        "outputId": "09741677-0208-4dd5-8057-83e243d36ab5"
      },
      "execution_count": null,
      "outputs": [
        {
          "output_type": "execute_result",
          "data": {
            "text/plain": [
              "28471"
            ]
          },
          "metadata": {},
          "execution_count": 24
        }
      ]
    },
    {
      "cell_type": "markdown",
      "source": [
        "##ngram_range=(1, 2), max_df=0.5, min_df=0.01, max_features=int(vocab_len/2)"
      ],
      "metadata": {
        "id": "Mt7AohtDSh-U"
      }
    },
    {
      "cell_type": "code",
      "source": [
        "vectorizer_TfidfVectorizer_ng12_maxdf05_mindf001_maxf2 = TfidfVectorizer(\n",
        "    ngram_range=(1, 2), max_df=0.5, min_df=0.01, max_features=int(vocab_len/2)\n",
        "    )\n",
        "\n",
        "vectorized_x_train = vectorizer_TfidfVectorizer_ng12_maxdf05_mindf001_maxf2.fit_transform(x_train_preprocessed)\n",
        "vectorized_x_test = vectorizer_TfidfVectorizer_ng12_maxdf05_mindf001_maxf2.transform(x_test_preprocessed)\n",
        "\n",
        "clf = MultinomialNB()\n",
        "clf.fit(vectorized_x_train, y_train)\n",
        "y_pred = clf.predict(vectorized_x_test)\n",
        "\n",
        "new_df = pd.DataFrame(\n",
        "    {'precision': [precision_score(y_test, y_pred, average='weighted')],\n",
        "     'recall': [recall_score(y_test, y_pred, average='weighted')],\n",
        "     'f1': [f1_score(y_test, y_pred, average='weighted')],\n",
        "     'accuracy': [accuracy_score(y_test, y_pred)]}, \n",
        "    index=['vectorizer_TfidfVectorizer_ng12_maxdf05_mindf001_maxf2'])\n",
        "\n",
        "comparison_df = comparison_df.append(new_df)"
      ],
      "metadata": {
        "id": "_k3IOd6sRGWA"
      },
      "execution_count": null,
      "outputs": []
    },
    {
      "cell_type": "markdown",
      "source": [
        "##ngram_range=(1, 2), max_df=0.5"
      ],
      "metadata": {
        "id": "3K8HUiS-Sdw_"
      }
    },
    {
      "cell_type": "code",
      "source": [
        "vectorizer_TfidfVectorizer_ng12_maxdf05 = TfidfVectorizer(\n",
        "    ngram_range=(1, 2), max_df=0.5\n",
        "    )\n",
        "\n",
        "vectorized_x_train = vectorizer_TfidfVectorizer_ng12_maxdf05.fit_transform(x_train_preprocessed)\n",
        "vectorized_x_test = vectorizer_TfidfVectorizer_ng12_maxdf05.transform(x_test_preprocessed)\n",
        "\n",
        "clf = MultinomialNB()\n",
        "clf.fit(vectorized_x_train, y_train)\n",
        "y_pred = clf.predict(vectorized_x_test)\n",
        "\n",
        "new_df = pd.DataFrame(\n",
        "    {'precision': [precision_score(y_test, y_pred, average='weighted')],\n",
        "     'recall': [recall_score(y_test, y_pred, average='weighted')],\n",
        "     'f1': [f1_score(y_test, y_pred, average='weighted')],\n",
        "     'accuracy': [accuracy_score(y_test, y_pred)]}, \n",
        "    index=['vectorizer_TfidfVectorizer_ng12_maxdf05'])\n",
        "\n",
        "comparison_df = comparison_df.append(new_df)"
      ],
      "metadata": {
        "id": "LOBUDCsQRYJ7"
      },
      "execution_count": null,
      "outputs": []
    },
    {
      "cell_type": "markdown",
      "source": [
        "##ngram_range=(1, 2), max_df=0.1"
      ],
      "metadata": {
        "id": "obUEPN_1SYi4"
      }
    },
    {
      "cell_type": "code",
      "source": [
        "vectorizer_TfidfVectorizer_ng12_maxdf01 = TfidfVectorizer(\n",
        "    ngram_range=(1, 2), max_df=0.1\n",
        "    )\n",
        "\n",
        "vectorized_x_train = vectorizer_TfidfVectorizer_ng12_maxdf01.fit_transform(x_train_preprocessed)\n",
        "vectorized_x_test = vectorizer_TfidfVectorizer_ng12_maxdf01.transform(x_test_preprocessed)\n",
        "\n",
        "clf = MultinomialNB()\n",
        "clf.fit(vectorized_x_train, y_train)\n",
        "y_pred = clf.predict(vectorized_x_test)\n",
        "\n",
        "new_df = pd.DataFrame(\n",
        "    {'precision': [precision_score(y_test, y_pred, average='weighted')],\n",
        "     'recall': [recall_score(y_test, y_pred, average='weighted')],\n",
        "     'f1': [f1_score(y_test, y_pred, average='weighted')],\n",
        "     'accuracy': [accuracy_score(y_test, y_pred)]}, \n",
        "    index=['vectorizer_TfidfVectorizer_ng12_maxdf01'])\n",
        "\n",
        "comparison_df = comparison_df.append(new_df)"
      ],
      "metadata": {
        "id": "h77eQalBRefC"
      },
      "execution_count": null,
      "outputs": []
    },
    {
      "cell_type": "markdown",
      "source": [
        "##ngram_range=(1, 2), max_df=0.5, min_df=0.01"
      ],
      "metadata": {
        "id": "4k57aNJrSSUt"
      }
    },
    {
      "cell_type": "code",
      "source": [
        "vectorizer_TfidfVectorizer_ng12_maxdf05_mindf001 = TfidfVectorizer(\n",
        "    ngram_range=(1, 2), max_df=0.5, min_df=0.01\n",
        "    )\n",
        "\n",
        "vectorized_x_train = vectorizer_TfidfVectorizer_ng12_maxdf05_mindf001.fit_transform(x_train_preprocessed)\n",
        "vectorized_x_test = vectorizer_TfidfVectorizer_ng12_maxdf05_mindf001.transform(x_test_preprocessed)\n",
        "\n",
        "clf = MultinomialNB()\n",
        "clf.fit(vectorized_x_train, y_train)\n",
        "y_pred = clf.predict(vectorized_x_test)\n",
        "\n",
        "new_df = pd.DataFrame(\n",
        "    {'precision': [precision_score(y_test, y_pred, average='weighted')],\n",
        "     'recall': [recall_score(y_test, y_pred, average='weighted')],\n",
        "     'f1': [f1_score(y_test, y_pred, average='weighted')],\n",
        "     'accuracy': [accuracy_score(y_test, y_pred)]}, \n",
        "    index=['vectorizer_TfidfVectorizer_ng12_maxdf05_mindf001'])\n",
        "\n",
        "comparison_df = comparison_df.append(new_df)"
      ],
      "metadata": {
        "id": "7uKd83CNRkXb"
      },
      "execution_count": null,
      "outputs": []
    },
    {
      "cell_type": "markdown",
      "source": [
        "##ngram_range=(1, 2), max_df=0.5, min_df=5"
      ],
      "metadata": {
        "id": "_VOSO2oiSNTN"
      }
    },
    {
      "cell_type": "code",
      "source": [
        "vectorizer_TfidfVectorizer_ng12_maxdf05_mindf5 = TfidfVectorizer(\n",
        "    ngram_range=(1, 2), max_df=0.5, min_df=5\n",
        "    )\n",
        "\n",
        "vectorized_x_train = vectorizer_TfidfVectorizer_ng12_maxdf05_mindf5.fit_transform(x_train_preprocessed)\n",
        "vectorized_x_test = vectorizer_TfidfVectorizer_ng12_maxdf05_mindf5.transform(x_test_preprocessed)\n",
        "\n",
        "clf = MultinomialNB()\n",
        "clf.fit(vectorized_x_train, y_train)\n",
        "y_pred = clf.predict(vectorized_x_test)\n",
        "\n",
        "new_df = pd.DataFrame(\n",
        "    {'precision': [precision_score(y_test, y_pred, average='weighted')],\n",
        "     'recall': [recall_score(y_test, y_pred, average='weighted')],\n",
        "     'f1': [f1_score(y_test, y_pred, average='weighted')],\n",
        "     'accuracy': [accuracy_score(y_test, y_pred)]}, \n",
        "    index=['vectorizer_TfidfVectorizer_ng12_maxdf05_mindf5'])\n",
        "\n",
        "comparison_df = comparison_df.append(new_df)"
      ],
      "metadata": {
        "id": "3W77M4fDRpKk"
      },
      "execution_count": null,
      "outputs": []
    },
    {
      "cell_type": "markdown",
      "source": [
        "##ngram_range=(1, 2), max_df=0.5, min_df=5, max_features=int(vocab_len/2)"
      ],
      "metadata": {
        "id": "g2CgmYyXSH5P"
      }
    },
    {
      "cell_type": "code",
      "source": [
        "vectorizer_TfidfVectorizer_ng12_maxdf05_mindf5_maxf2 = TfidfVectorizer(\n",
        "    ngram_range=(1, 2), max_df=0.5, min_df=5, max_features=int(vocab_len/2)\n",
        "    )\n",
        "\n",
        "vectorized_x_train = vectorizer_TfidfVectorizer_ng12_maxdf05_mindf5_maxf2.fit_transform(x_train_preprocessed)\n",
        "vectorized_x_test = vectorizer_TfidfVectorizer_ng12_maxdf05_mindf5_maxf2.transform(x_test_preprocessed)\n",
        "\n",
        "clf = MultinomialNB()\n",
        "clf.fit(vectorized_x_train, y_train)\n",
        "y_pred = clf.predict(vectorized_x_test)\n",
        "\n",
        "new_df = pd.DataFrame(\n",
        "    {'precision': [precision_score(y_test, y_pred, average='weighted')],\n",
        "     'recall': [recall_score(y_test, y_pred, average='weighted')],\n",
        "     'f1': [f1_score(y_test, y_pred, average='weighted')],\n",
        "     'accuracy': [accuracy_score(y_test, y_pred)]}, \n",
        "    index=['vectorizer_TfidfVectorizer_ng12_maxdf05_mindf5_maxf2'])\n",
        "\n",
        "comparison_df = comparison_df.append(new_df)"
      ],
      "metadata": {
        "id": "nNtRe66IRudS"
      },
      "execution_count": null,
      "outputs": []
    },
    {
      "cell_type": "markdown",
      "source": [
        "##ngram_range=(1, 2), max_df=0.5, min_df=5, max_features=int(vocab_len*0.99)\n"
      ],
      "metadata": {
        "id": "vYDh9K1JR_94"
      }
    },
    {
      "cell_type": "code",
      "source": [
        "vectorizer_TfidfVectorizer_ng12_maxdf05_mindf5_maxf099 = TfidfVectorizer(\n",
        "    ngram_range=(1, 2), max_df=0.5, min_df=5, max_features=int(vocab_len*0.99)\n",
        "    )\n",
        "\n",
        "vectorized_x_train = vectorizer_TfidfVectorizer_ng12_maxdf05_mindf5_maxf099.fit_transform(x_train_preprocessed)\n",
        "vectorized_x_test = vectorizer_TfidfVectorizer_ng12_maxdf05_mindf5_maxf099.transform(x_test_preprocessed)\n",
        "\n",
        "clf = MultinomialNB()\n",
        "clf.fit(vectorized_x_train, y_train)\n",
        "y_pred = clf.predict(vectorized_x_test)\n",
        "\n",
        "new_df = pd.DataFrame(\n",
        "    {'precision': [precision_score(y_test, y_pred, average='weighted')],\n",
        "     'recall': [recall_score(y_test, y_pred, average='weighted')],\n",
        "     'f1': [f1_score(y_test, y_pred, average='weighted')],\n",
        "     'accuracy': [accuracy_score(y_test, y_pred)]}, \n",
        "    index=['vectorizer_TfidfVectorizer_ng12_maxdf05_mindf5_maxf099'])\n",
        "\n",
        "comparison_df = comparison_df.append(new_df)"
      ],
      "metadata": {
        "id": "564QTI8cR36M"
      },
      "execution_count": null,
      "outputs": []
    },
    {
      "cell_type": "markdown",
      "source": [
        "Текущее состояние датафрейма"
      ],
      "metadata": {
        "id": "BUOfe7uoYc0s"
      }
    },
    {
      "cell_type": "code",
      "source": [
        "comparison_df"
      ],
      "metadata": {
        "colab": {
          "base_uri": "https://localhost:8080/",
          "height": 551
        },
        "id": "-dkLSw8aYf1T",
        "outputId": "286a338e-6856-4e1c-d3c1-ee9f000e5bc1"
      },
      "execution_count": null,
      "outputs": [
        {
          "output_type": "execute_result",
          "data": {
            "text/plain": [
              "                                                    precision    recall  \\\n",
              "vectorizer_CountVectorizer_ng11                      0.709831  0.703167   \n",
              "vectorizer_CountVectorizer_ng12                      0.721927  0.719389   \n",
              "vectorizer_CountVectorizer_ng13                      0.718108  0.717556   \n",
              "vectorizer_CountVectorizer_ng22                      0.692024  0.690667   \n",
              "vectorizer_CountVectorizer_ng23                      0.683873  0.685056   \n",
              "vectorizer_CountVectorizer_ng24                      0.681791  0.683500   \n",
              "vectorizer_CountVectorizer_ng33                      0.614148  0.595056   \n",
              "vectorizer_TfidfVectorizer_ng11                      0.708238  0.700944   \n",
              "vectorizer_TfidfVectorizer_ng12                      0.723110  0.720556   \n",
              "vectorizer_TfidfVectorizer_ng12_maxdf05_mindf00...   0.684455  0.672167   \n",
              "vectorizer_TfidfVectorizer_ng12_maxdf05              0.723110  0.720556   \n",
              "vectorizer_TfidfVectorizer_ng12_maxdf01              0.721351  0.717889   \n",
              "vectorizer_TfidfVectorizer_ng12_maxdf05_mindf001     0.684455  0.672167   \n",
              "vectorizer_TfidfVectorizer_ng12_maxdf05_mindf5       0.726327  0.717667   \n",
              "vectorizer_TfidfVectorizer_ng12_maxdf05_mindf5_...   0.726734  0.716889   \n",
              "vectorizer_TfidfVectorizer_ng12_maxdf05_mindf5_...   0.726654  0.717833   \n",
              "\n",
              "                                                          f1  accuracy  \n",
              "vectorizer_CountVectorizer_ng11                     0.703724  0.703167  \n",
              "vectorizer_CountVectorizer_ng12                     0.719457  0.719389  \n",
              "vectorizer_CountVectorizer_ng13                     0.717256  0.717556  \n",
              "vectorizer_CountVectorizer_ng22                     0.690765  0.690667  \n",
              "vectorizer_CountVectorizer_ng23                     0.684105  0.685056  \n",
              "vectorizer_CountVectorizer_ng24                     0.682318  0.683500  \n",
              "vectorizer_CountVectorizer_ng33                     0.599782  0.595056  \n",
              "vectorizer_TfidfVectorizer_ng11                     0.701890  0.700944  \n",
              "vectorizer_TfidfVectorizer_ng12                     0.720519  0.720556  \n",
              "vectorizer_TfidfVectorizer_ng12_maxdf05_mindf00...  0.674070  0.672167  \n",
              "vectorizer_TfidfVectorizer_ng12_maxdf05             0.720519  0.720556  \n",
              "vectorizer_TfidfVectorizer_ng12_maxdf01             0.718026  0.717889  \n",
              "vectorizer_TfidfVectorizer_ng12_maxdf05_mindf001    0.674070  0.672167  \n",
              "vectorizer_TfidfVectorizer_ng12_maxdf05_mindf5      0.718934  0.717667  \n",
              "vectorizer_TfidfVectorizer_ng12_maxdf05_mindf5_...  0.718433  0.716889  \n",
              "vectorizer_TfidfVectorizer_ng12_maxdf05_mindf5_...  0.719155  0.717833  "
            ],
            "text/html": [
              "\n",
              "  <div id=\"df-a2717deb-cb33-4042-a326-d2407b7b65e6\">\n",
              "    <div class=\"colab-df-container\">\n",
              "      <div>\n",
              "<style scoped>\n",
              "    .dataframe tbody tr th:only-of-type {\n",
              "        vertical-align: middle;\n",
              "    }\n",
              "\n",
              "    .dataframe tbody tr th {\n",
              "        vertical-align: top;\n",
              "    }\n",
              "\n",
              "    .dataframe thead th {\n",
              "        text-align: right;\n",
              "    }\n",
              "</style>\n",
              "<table border=\"1\" class=\"dataframe\">\n",
              "  <thead>\n",
              "    <tr style=\"text-align: right;\">\n",
              "      <th></th>\n",
              "      <th>precision</th>\n",
              "      <th>recall</th>\n",
              "      <th>f1</th>\n",
              "      <th>accuracy</th>\n",
              "    </tr>\n",
              "  </thead>\n",
              "  <tbody>\n",
              "    <tr>\n",
              "      <th>vectorizer_CountVectorizer_ng11</th>\n",
              "      <td>0.709831</td>\n",
              "      <td>0.703167</td>\n",
              "      <td>0.703724</td>\n",
              "      <td>0.703167</td>\n",
              "    </tr>\n",
              "    <tr>\n",
              "      <th>vectorizer_CountVectorizer_ng12</th>\n",
              "      <td>0.721927</td>\n",
              "      <td>0.719389</td>\n",
              "      <td>0.719457</td>\n",
              "      <td>0.719389</td>\n",
              "    </tr>\n",
              "    <tr>\n",
              "      <th>vectorizer_CountVectorizer_ng13</th>\n",
              "      <td>0.718108</td>\n",
              "      <td>0.717556</td>\n",
              "      <td>0.717256</td>\n",
              "      <td>0.717556</td>\n",
              "    </tr>\n",
              "    <tr>\n",
              "      <th>vectorizer_CountVectorizer_ng22</th>\n",
              "      <td>0.692024</td>\n",
              "      <td>0.690667</td>\n",
              "      <td>0.690765</td>\n",
              "      <td>0.690667</td>\n",
              "    </tr>\n",
              "    <tr>\n",
              "      <th>vectorizer_CountVectorizer_ng23</th>\n",
              "      <td>0.683873</td>\n",
              "      <td>0.685056</td>\n",
              "      <td>0.684105</td>\n",
              "      <td>0.685056</td>\n",
              "    </tr>\n",
              "    <tr>\n",
              "      <th>vectorizer_CountVectorizer_ng24</th>\n",
              "      <td>0.681791</td>\n",
              "      <td>0.683500</td>\n",
              "      <td>0.682318</td>\n",
              "      <td>0.683500</td>\n",
              "    </tr>\n",
              "    <tr>\n",
              "      <th>vectorizer_CountVectorizer_ng33</th>\n",
              "      <td>0.614148</td>\n",
              "      <td>0.595056</td>\n",
              "      <td>0.599782</td>\n",
              "      <td>0.595056</td>\n",
              "    </tr>\n",
              "    <tr>\n",
              "      <th>vectorizer_TfidfVectorizer_ng11</th>\n",
              "      <td>0.708238</td>\n",
              "      <td>0.700944</td>\n",
              "      <td>0.701890</td>\n",
              "      <td>0.700944</td>\n",
              "    </tr>\n",
              "    <tr>\n",
              "      <th>vectorizer_TfidfVectorizer_ng12</th>\n",
              "      <td>0.723110</td>\n",
              "      <td>0.720556</td>\n",
              "      <td>0.720519</td>\n",
              "      <td>0.720556</td>\n",
              "    </tr>\n",
              "    <tr>\n",
              "      <th>vectorizer_TfidfVectorizer_ng12_maxdf05_mindf001_maxf2</th>\n",
              "      <td>0.684455</td>\n",
              "      <td>0.672167</td>\n",
              "      <td>0.674070</td>\n",
              "      <td>0.672167</td>\n",
              "    </tr>\n",
              "    <tr>\n",
              "      <th>vectorizer_TfidfVectorizer_ng12_maxdf05</th>\n",
              "      <td>0.723110</td>\n",
              "      <td>0.720556</td>\n",
              "      <td>0.720519</td>\n",
              "      <td>0.720556</td>\n",
              "    </tr>\n",
              "    <tr>\n",
              "      <th>vectorizer_TfidfVectorizer_ng12_maxdf01</th>\n",
              "      <td>0.721351</td>\n",
              "      <td>0.717889</td>\n",
              "      <td>0.718026</td>\n",
              "      <td>0.717889</td>\n",
              "    </tr>\n",
              "    <tr>\n",
              "      <th>vectorizer_TfidfVectorizer_ng12_maxdf05_mindf001</th>\n",
              "      <td>0.684455</td>\n",
              "      <td>0.672167</td>\n",
              "      <td>0.674070</td>\n",
              "      <td>0.672167</td>\n",
              "    </tr>\n",
              "    <tr>\n",
              "      <th>vectorizer_TfidfVectorizer_ng12_maxdf05_mindf5</th>\n",
              "      <td>0.726327</td>\n",
              "      <td>0.717667</td>\n",
              "      <td>0.718934</td>\n",
              "      <td>0.717667</td>\n",
              "    </tr>\n",
              "    <tr>\n",
              "      <th>vectorizer_TfidfVectorizer_ng12_maxdf05_mindf5_maxf2</th>\n",
              "      <td>0.726734</td>\n",
              "      <td>0.716889</td>\n",
              "      <td>0.718433</td>\n",
              "      <td>0.716889</td>\n",
              "    </tr>\n",
              "    <tr>\n",
              "      <th>vectorizer_TfidfVectorizer_ng12_maxdf05_mindf5_maxf099</th>\n",
              "      <td>0.726654</td>\n",
              "      <td>0.717833</td>\n",
              "      <td>0.719155</td>\n",
              "      <td>0.717833</td>\n",
              "    </tr>\n",
              "  </tbody>\n",
              "</table>\n",
              "</div>\n",
              "      <button class=\"colab-df-convert\" onclick=\"convertToInteractive('df-a2717deb-cb33-4042-a326-d2407b7b65e6')\"\n",
              "              title=\"Convert this dataframe to an interactive table.\"\n",
              "              style=\"display:none;\">\n",
              "        \n",
              "  <svg xmlns=\"http://www.w3.org/2000/svg\" height=\"24px\"viewBox=\"0 0 24 24\"\n",
              "       width=\"24px\">\n",
              "    <path d=\"M0 0h24v24H0V0z\" fill=\"none\"/>\n",
              "    <path d=\"M18.56 5.44l.94 2.06.94-2.06 2.06-.94-2.06-.94-.94-2.06-.94 2.06-2.06.94zm-11 1L8.5 8.5l.94-2.06 2.06-.94-2.06-.94L8.5 2.5l-.94 2.06-2.06.94zm10 10l.94 2.06.94-2.06 2.06-.94-2.06-.94-.94-2.06-.94 2.06-2.06.94z\"/><path d=\"M17.41 7.96l-1.37-1.37c-.4-.4-.92-.59-1.43-.59-.52 0-1.04.2-1.43.59L10.3 9.45l-7.72 7.72c-.78.78-.78 2.05 0 2.83L4 21.41c.39.39.9.59 1.41.59.51 0 1.02-.2 1.41-.59l7.78-7.78 2.81-2.81c.8-.78.8-2.07 0-2.86zM5.41 20L4 18.59l7.72-7.72 1.47 1.35L5.41 20z\"/>\n",
              "  </svg>\n",
              "      </button>\n",
              "      \n",
              "  <style>\n",
              "    .colab-df-container {\n",
              "      display:flex;\n",
              "      flex-wrap:wrap;\n",
              "      gap: 12px;\n",
              "    }\n",
              "\n",
              "    .colab-df-convert {\n",
              "      background-color: #E8F0FE;\n",
              "      border: none;\n",
              "      border-radius: 50%;\n",
              "      cursor: pointer;\n",
              "      display: none;\n",
              "      fill: #1967D2;\n",
              "      height: 32px;\n",
              "      padding: 0 0 0 0;\n",
              "      width: 32px;\n",
              "    }\n",
              "\n",
              "    .colab-df-convert:hover {\n",
              "      background-color: #E2EBFA;\n",
              "      box-shadow: 0px 1px 2px rgba(60, 64, 67, 0.3), 0px 1px 3px 1px rgba(60, 64, 67, 0.15);\n",
              "      fill: #174EA6;\n",
              "    }\n",
              "\n",
              "    [theme=dark] .colab-df-convert {\n",
              "      background-color: #3B4455;\n",
              "      fill: #D2E3FC;\n",
              "    }\n",
              "\n",
              "    [theme=dark] .colab-df-convert:hover {\n",
              "      background-color: #434B5C;\n",
              "      box-shadow: 0px 1px 3px 1px rgba(0, 0, 0, 0.15);\n",
              "      filter: drop-shadow(0px 1px 2px rgba(0, 0, 0, 0.3));\n",
              "      fill: #FFFFFF;\n",
              "    }\n",
              "  </style>\n",
              "\n",
              "      <script>\n",
              "        const buttonEl =\n",
              "          document.querySelector('#df-a2717deb-cb33-4042-a326-d2407b7b65e6 button.colab-df-convert');\n",
              "        buttonEl.style.display =\n",
              "          google.colab.kernel.accessAllowed ? 'block' : 'none';\n",
              "\n",
              "        async function convertToInteractive(key) {\n",
              "          const element = document.querySelector('#df-a2717deb-cb33-4042-a326-d2407b7b65e6');\n",
              "          const dataTable =\n",
              "            await google.colab.kernel.invokeFunction('convertToInteractive',\n",
              "                                                     [key], {});\n",
              "          if (!dataTable) return;\n",
              "\n",
              "          const docLinkHtml = 'Like what you see? Visit the ' +\n",
              "            '<a target=\"_blank\" href=https://colab.research.google.com/notebooks/data_table.ipynb>data table notebook</a>'\n",
              "            + ' to learn more about interactive tables.';\n",
              "          element.innerHTML = '';\n",
              "          dataTable['output_type'] = 'display_data';\n",
              "          await google.colab.output.renderOutput(dataTable, element);\n",
              "          const docLink = document.createElement('div');\n",
              "          docLink.innerHTML = docLinkHtml;\n",
              "          element.appendChild(docLink);\n",
              "        }\n",
              "      </script>\n",
              "    </div>\n",
              "  </div>\n",
              "  "
            ]
          },
          "metadata": {},
          "execution_count": 32
        }
      ]
    },
    {
      "cell_type": "markdown",
      "source": [
        "#Символьные n-граммы"
      ],
      "metadata": {
        "id": "Kunw2x1lSy9r"
      }
    },
    {
      "cell_type": "markdown",
      "source": [
        "Cимвольные n-граммы используются, например, для задачи определения языка. Ещё одна замечательная особенность признаков-символов - для них не нужна токенизация и лемматизация, можно использовать такой подход для языков, у которых нет готовых анализаторов."
      ],
      "metadata": {
        "id": "-EK5QGd6fmpz"
      }
    },
    {
      "cell_type": "markdown",
      "source": [
        "##ngram_range=(3, 6)"
      ],
      "metadata": {
        "id": "KvJ_X97tS4vu"
      }
    },
    {
      "cell_type": "code",
      "source": [
        "vectorizer_CountVectorizer_char_ng3_6 = CountVectorizer(analyzer='char', ngram_range=(3, 6))\n",
        "\n",
        "vectorized_x_train = vectorizer_CountVectorizer_char_ng3_6.fit_transform(x_train_preprocessed)\n",
        "vectorized_x_test = vectorizer_CountVectorizer_char_ng3_6.transform(x_test_preprocessed)\n",
        "\n",
        "clf = MultinomialNB()\n",
        "clf.fit(vectorized_x_train, y_train)\n",
        "y_pred = clf.predict(vectorized_x_test)\n",
        "\n",
        "new_df = pd.DataFrame(\n",
        "    {'precision': [precision_score(y_test, y_pred, average='weighted')],\n",
        "     'recall': [recall_score(y_test, y_pred, average='weighted')],\n",
        "     'f1': [f1_score(y_test, y_pred, average='weighted')],\n",
        "     'accuracy': [accuracy_score(y_test, y_pred)]}, \n",
        "    index=['vectorizer_CountVectorizer_char_ng3_6'])\n",
        "\n",
        "comparison_df = comparison_df.append(new_df)"
      ],
      "metadata": {
        "id": "iylDVdSaS3q1"
      },
      "execution_count": null,
      "outputs": []
    },
    {
      "cell_type": "markdown",
      "source": [
        "##ngram_range=(1, 10)"
      ],
      "metadata": {
        "id": "_xxovulJTMcm"
      }
    },
    {
      "cell_type": "code",
      "source": [
        "vectorizer_CountVectorizer_char_ng1_10 = CountVectorizer(analyzer='char', ngram_range=(1, 10))\n",
        "\n",
        "vectorized_x_train = vectorizer_CountVectorizer_char_ng1_10.fit_transform(x_train_preprocessed)\n",
        "vectorized_x_test = vectorizer_CountVectorizer_char_ng1_10.transform(x_test_preprocessed)\n",
        "\n",
        "clf = MultinomialNB()\n",
        "clf.fit(vectorized_x_train, y_train)\n",
        "y_pred = clf.predict(vectorized_x_test)\n",
        "\n",
        "new_df = pd.DataFrame(\n",
        "    {'precision': [precision_score(y_test, y_pred, average='weighted')],\n",
        "     'recall': [recall_score(y_test, y_pred, average='weighted')],\n",
        "     'f1': [f1_score(y_test, y_pred, average='weighted')],\n",
        "     'accuracy': [accuracy_score(y_test, y_pred)]}, \n",
        "    index=['vectorizer_CountVectorizer_char_ng1_10'])\n",
        "\n",
        "comparison_df = comparison_df.append(new_df)"
      ],
      "metadata": {
        "id": "kbqiS99jTURv"
      },
      "execution_count": null,
      "outputs": []
    },
    {
      "cell_type": "markdown",
      "source": [
        "## ngram_range=(2, 5)"
      ],
      "metadata": {
        "id": "8nVjxdf-Vsn7"
      }
    },
    {
      "cell_type": "code",
      "source": [
        "vectorizer_CountVectorizer_char_ng2_5 = CountVectorizer(analyzer='char', ngram_range=(2, 5))\n",
        "\n",
        "vectorized_x_train = vectorizer_CountVectorizer_char_ng2_5.fit_transform(x_train_preprocessed)\n",
        "vectorized_x_test = vectorizer_CountVectorizer_char_ng2_5.transform(x_test_preprocessed)\n",
        "\n",
        "clf = MultinomialNB()\n",
        "clf.fit(vectorized_x_train, y_train)\n",
        "y_pred = clf.predict(vectorized_x_test)\n",
        "\n",
        "new_df = pd.DataFrame(\n",
        "    {'precision': [precision_score(y_test, y_pred, average='weighted')],\n",
        "     'recall': [recall_score(y_test, y_pred, average='weighted')],\n",
        "     'f1': [f1_score(y_test, y_pred, average='weighted')],\n",
        "     'accuracy': [accuracy_score(y_test, y_pred)]}, \n",
        "    index=['vectorizer_CountVectorizer_char_ng2_5'])\n",
        "\n",
        "comparison_df = comparison_df.append(new_df)"
      ],
      "metadata": {
        "id": "tyXOZ7wqVtDz"
      },
      "execution_count": null,
      "outputs": []
    },
    {
      "cell_type": "markdown",
      "source": [
        "#Итоговый датафрейм"
      ],
      "metadata": {
        "id": "MBr17RteUAoG"
      }
    },
    {
      "cell_type": "code",
      "source": [
        "comparison_df.sort_values(by=['accuracy'], ascending=False)"
      ],
      "metadata": {
        "colab": {
          "base_uri": "https://localhost:8080/",
          "height": 645
        },
        "id": "t06ldPqeULX6",
        "outputId": "353444d4-d2b2-4099-eafb-c98d194e404d"
      },
      "execution_count": null,
      "outputs": [
        {
          "output_type": "execute_result",
          "data": {
            "text/plain": [
              "                                                    precision    recall  \\\n",
              "vectorizer_TfidfVectorizer_ng12                      0.723110  0.720556   \n",
              "vectorizer_TfidfVectorizer_ng12_maxdf05              0.723110  0.720556   \n",
              "vectorizer_CountVectorizer_char_ng1_10               0.727433  0.720167   \n",
              "vectorizer_CountVectorizer_ng12                      0.721927  0.719389   \n",
              "vectorizer_TfidfVectorizer_ng12_maxdf01              0.721351  0.717889   \n",
              "vectorizer_TfidfVectorizer_ng12_maxdf05_mindf5_...   0.726654  0.717833   \n",
              "vectorizer_TfidfVectorizer_ng12_maxdf05_mindf5       0.726327  0.717667   \n",
              "vectorizer_CountVectorizer_ng13                      0.718108  0.717556   \n",
              "vectorizer_TfidfVectorizer_ng12_maxdf05_mindf5_...   0.726734  0.716889   \n",
              "vectorizer_CountVectorizer_char_ng3_6                0.721762  0.710944   \n",
              "vectorizer_CountVectorizer_ng11                      0.709831  0.703167   \n",
              "vectorizer_CountVectorizer_char_ng2_5                0.716150  0.703167   \n",
              "vectorizer_TfidfVectorizer_ng11                      0.708238  0.700944   \n",
              "vectorizer_CountVectorizer_ng22                      0.692024  0.690667   \n",
              "vectorizer_CountVectorizer_ng23                      0.683873  0.685056   \n",
              "vectorizer_CountVectorizer_ng24                      0.681791  0.683500   \n",
              "vectorizer_TfidfVectorizer_ng12_maxdf05_mindf001     0.684455  0.672167   \n",
              "vectorizer_TfidfVectorizer_ng12_maxdf05_mindf00...   0.684455  0.672167   \n",
              "vectorizer_CountVectorizer_ng33                      0.614148  0.595056   \n",
              "\n",
              "                                                          f1  accuracy  \n",
              "vectorizer_TfidfVectorizer_ng12                     0.720519  0.720556  \n",
              "vectorizer_TfidfVectorizer_ng12_maxdf05             0.720519  0.720556  \n",
              "vectorizer_CountVectorizer_char_ng1_10              0.721787  0.720167  \n",
              "vectorizer_CountVectorizer_ng12                     0.719457  0.719389  \n",
              "vectorizer_TfidfVectorizer_ng12_maxdf01             0.718026  0.717889  \n",
              "vectorizer_TfidfVectorizer_ng12_maxdf05_mindf5_...  0.719155  0.717833  \n",
              "vectorizer_TfidfVectorizer_ng12_maxdf05_mindf5      0.718934  0.717667  \n",
              "vectorizer_CountVectorizer_ng13                     0.717256  0.717556  \n",
              "vectorizer_TfidfVectorizer_ng12_maxdf05_mindf5_...  0.718433  0.716889  \n",
              "vectorizer_CountVectorizer_char_ng3_6               0.712875  0.710944  \n",
              "vectorizer_CountVectorizer_ng11                     0.703724  0.703167  \n",
              "vectorizer_CountVectorizer_char_ng2_5               0.705491  0.703167  \n",
              "vectorizer_TfidfVectorizer_ng11                     0.701890  0.700944  \n",
              "vectorizer_CountVectorizer_ng22                     0.690765  0.690667  \n",
              "vectorizer_CountVectorizer_ng23                     0.684105  0.685056  \n",
              "vectorizer_CountVectorizer_ng24                     0.682318  0.683500  \n",
              "vectorizer_TfidfVectorizer_ng12_maxdf05_mindf001    0.674070  0.672167  \n",
              "vectorizer_TfidfVectorizer_ng12_maxdf05_mindf00...  0.674070  0.672167  \n",
              "vectorizer_CountVectorizer_ng33                     0.599782  0.595056  "
            ],
            "text/html": [
              "\n",
              "  <div id=\"df-c5f99a88-d4b6-43b0-9b4c-524988f2625e\">\n",
              "    <div class=\"colab-df-container\">\n",
              "      <div>\n",
              "<style scoped>\n",
              "    .dataframe tbody tr th:only-of-type {\n",
              "        vertical-align: middle;\n",
              "    }\n",
              "\n",
              "    .dataframe tbody tr th {\n",
              "        vertical-align: top;\n",
              "    }\n",
              "\n",
              "    .dataframe thead th {\n",
              "        text-align: right;\n",
              "    }\n",
              "</style>\n",
              "<table border=\"1\" class=\"dataframe\">\n",
              "  <thead>\n",
              "    <tr style=\"text-align: right;\">\n",
              "      <th></th>\n",
              "      <th>precision</th>\n",
              "      <th>recall</th>\n",
              "      <th>f1</th>\n",
              "      <th>accuracy</th>\n",
              "    </tr>\n",
              "  </thead>\n",
              "  <tbody>\n",
              "    <tr>\n",
              "      <th>vectorizer_TfidfVectorizer_ng12</th>\n",
              "      <td>0.723110</td>\n",
              "      <td>0.720556</td>\n",
              "      <td>0.720519</td>\n",
              "      <td>0.720556</td>\n",
              "    </tr>\n",
              "    <tr>\n",
              "      <th>vectorizer_TfidfVectorizer_ng12_maxdf05</th>\n",
              "      <td>0.723110</td>\n",
              "      <td>0.720556</td>\n",
              "      <td>0.720519</td>\n",
              "      <td>0.720556</td>\n",
              "    </tr>\n",
              "    <tr>\n",
              "      <th>vectorizer_CountVectorizer_char_ng1_10</th>\n",
              "      <td>0.727433</td>\n",
              "      <td>0.720167</td>\n",
              "      <td>0.721787</td>\n",
              "      <td>0.720167</td>\n",
              "    </tr>\n",
              "    <tr>\n",
              "      <th>vectorizer_CountVectorizer_ng12</th>\n",
              "      <td>0.721927</td>\n",
              "      <td>0.719389</td>\n",
              "      <td>0.719457</td>\n",
              "      <td>0.719389</td>\n",
              "    </tr>\n",
              "    <tr>\n",
              "      <th>vectorizer_TfidfVectorizer_ng12_maxdf01</th>\n",
              "      <td>0.721351</td>\n",
              "      <td>0.717889</td>\n",
              "      <td>0.718026</td>\n",
              "      <td>0.717889</td>\n",
              "    </tr>\n",
              "    <tr>\n",
              "      <th>vectorizer_TfidfVectorizer_ng12_maxdf05_mindf5_maxf099</th>\n",
              "      <td>0.726654</td>\n",
              "      <td>0.717833</td>\n",
              "      <td>0.719155</td>\n",
              "      <td>0.717833</td>\n",
              "    </tr>\n",
              "    <tr>\n",
              "      <th>vectorizer_TfidfVectorizer_ng12_maxdf05_mindf5</th>\n",
              "      <td>0.726327</td>\n",
              "      <td>0.717667</td>\n",
              "      <td>0.718934</td>\n",
              "      <td>0.717667</td>\n",
              "    </tr>\n",
              "    <tr>\n",
              "      <th>vectorizer_CountVectorizer_ng13</th>\n",
              "      <td>0.718108</td>\n",
              "      <td>0.717556</td>\n",
              "      <td>0.717256</td>\n",
              "      <td>0.717556</td>\n",
              "    </tr>\n",
              "    <tr>\n",
              "      <th>vectorizer_TfidfVectorizer_ng12_maxdf05_mindf5_maxf2</th>\n",
              "      <td>0.726734</td>\n",
              "      <td>0.716889</td>\n",
              "      <td>0.718433</td>\n",
              "      <td>0.716889</td>\n",
              "    </tr>\n",
              "    <tr>\n",
              "      <th>vectorizer_CountVectorizer_char_ng3_6</th>\n",
              "      <td>0.721762</td>\n",
              "      <td>0.710944</td>\n",
              "      <td>0.712875</td>\n",
              "      <td>0.710944</td>\n",
              "    </tr>\n",
              "    <tr>\n",
              "      <th>vectorizer_CountVectorizer_ng11</th>\n",
              "      <td>0.709831</td>\n",
              "      <td>0.703167</td>\n",
              "      <td>0.703724</td>\n",
              "      <td>0.703167</td>\n",
              "    </tr>\n",
              "    <tr>\n",
              "      <th>vectorizer_CountVectorizer_char_ng2_5</th>\n",
              "      <td>0.716150</td>\n",
              "      <td>0.703167</td>\n",
              "      <td>0.705491</td>\n",
              "      <td>0.703167</td>\n",
              "    </tr>\n",
              "    <tr>\n",
              "      <th>vectorizer_TfidfVectorizer_ng11</th>\n",
              "      <td>0.708238</td>\n",
              "      <td>0.700944</td>\n",
              "      <td>0.701890</td>\n",
              "      <td>0.700944</td>\n",
              "    </tr>\n",
              "    <tr>\n",
              "      <th>vectorizer_CountVectorizer_ng22</th>\n",
              "      <td>0.692024</td>\n",
              "      <td>0.690667</td>\n",
              "      <td>0.690765</td>\n",
              "      <td>0.690667</td>\n",
              "    </tr>\n",
              "    <tr>\n",
              "      <th>vectorizer_CountVectorizer_ng23</th>\n",
              "      <td>0.683873</td>\n",
              "      <td>0.685056</td>\n",
              "      <td>0.684105</td>\n",
              "      <td>0.685056</td>\n",
              "    </tr>\n",
              "    <tr>\n",
              "      <th>vectorizer_CountVectorizer_ng24</th>\n",
              "      <td>0.681791</td>\n",
              "      <td>0.683500</td>\n",
              "      <td>0.682318</td>\n",
              "      <td>0.683500</td>\n",
              "    </tr>\n",
              "    <tr>\n",
              "      <th>vectorizer_TfidfVectorizer_ng12_maxdf05_mindf001</th>\n",
              "      <td>0.684455</td>\n",
              "      <td>0.672167</td>\n",
              "      <td>0.674070</td>\n",
              "      <td>0.672167</td>\n",
              "    </tr>\n",
              "    <tr>\n",
              "      <th>vectorizer_TfidfVectorizer_ng12_maxdf05_mindf001_maxf2</th>\n",
              "      <td>0.684455</td>\n",
              "      <td>0.672167</td>\n",
              "      <td>0.674070</td>\n",
              "      <td>0.672167</td>\n",
              "    </tr>\n",
              "    <tr>\n",
              "      <th>vectorizer_CountVectorizer_ng33</th>\n",
              "      <td>0.614148</td>\n",
              "      <td>0.595056</td>\n",
              "      <td>0.599782</td>\n",
              "      <td>0.595056</td>\n",
              "    </tr>\n",
              "  </tbody>\n",
              "</table>\n",
              "</div>\n",
              "      <button class=\"colab-df-convert\" onclick=\"convertToInteractive('df-c5f99a88-d4b6-43b0-9b4c-524988f2625e')\"\n",
              "              title=\"Convert this dataframe to an interactive table.\"\n",
              "              style=\"display:none;\">\n",
              "        \n",
              "  <svg xmlns=\"http://www.w3.org/2000/svg\" height=\"24px\"viewBox=\"0 0 24 24\"\n",
              "       width=\"24px\">\n",
              "    <path d=\"M0 0h24v24H0V0z\" fill=\"none\"/>\n",
              "    <path d=\"M18.56 5.44l.94 2.06.94-2.06 2.06-.94-2.06-.94-.94-2.06-.94 2.06-2.06.94zm-11 1L8.5 8.5l.94-2.06 2.06-.94-2.06-.94L8.5 2.5l-.94 2.06-2.06.94zm10 10l.94 2.06.94-2.06 2.06-.94-2.06-.94-.94-2.06-.94 2.06-2.06.94z\"/><path d=\"M17.41 7.96l-1.37-1.37c-.4-.4-.92-.59-1.43-.59-.52 0-1.04.2-1.43.59L10.3 9.45l-7.72 7.72c-.78.78-.78 2.05 0 2.83L4 21.41c.39.39.9.59 1.41.59.51 0 1.02-.2 1.41-.59l7.78-7.78 2.81-2.81c.8-.78.8-2.07 0-2.86zM5.41 20L4 18.59l7.72-7.72 1.47 1.35L5.41 20z\"/>\n",
              "  </svg>\n",
              "      </button>\n",
              "      \n",
              "  <style>\n",
              "    .colab-df-container {\n",
              "      display:flex;\n",
              "      flex-wrap:wrap;\n",
              "      gap: 12px;\n",
              "    }\n",
              "\n",
              "    .colab-df-convert {\n",
              "      background-color: #E8F0FE;\n",
              "      border: none;\n",
              "      border-radius: 50%;\n",
              "      cursor: pointer;\n",
              "      display: none;\n",
              "      fill: #1967D2;\n",
              "      height: 32px;\n",
              "      padding: 0 0 0 0;\n",
              "      width: 32px;\n",
              "    }\n",
              "\n",
              "    .colab-df-convert:hover {\n",
              "      background-color: #E2EBFA;\n",
              "      box-shadow: 0px 1px 2px rgba(60, 64, 67, 0.3), 0px 1px 3px 1px rgba(60, 64, 67, 0.15);\n",
              "      fill: #174EA6;\n",
              "    }\n",
              "\n",
              "    [theme=dark] .colab-df-convert {\n",
              "      background-color: #3B4455;\n",
              "      fill: #D2E3FC;\n",
              "    }\n",
              "\n",
              "    [theme=dark] .colab-df-convert:hover {\n",
              "      background-color: #434B5C;\n",
              "      box-shadow: 0px 1px 3px 1px rgba(0, 0, 0, 0.15);\n",
              "      filter: drop-shadow(0px 1px 2px rgba(0, 0, 0, 0.3));\n",
              "      fill: #FFFFFF;\n",
              "    }\n",
              "  </style>\n",
              "\n",
              "      <script>\n",
              "        const buttonEl =\n",
              "          document.querySelector('#df-c5f99a88-d4b6-43b0-9b4c-524988f2625e button.colab-df-convert');\n",
              "        buttonEl.style.display =\n",
              "          google.colab.kernel.accessAllowed ? 'block' : 'none';\n",
              "\n",
              "        async function convertToInteractive(key) {\n",
              "          const element = document.querySelector('#df-c5f99a88-d4b6-43b0-9b4c-524988f2625e');\n",
              "          const dataTable =\n",
              "            await google.colab.kernel.invokeFunction('convertToInteractive',\n",
              "                                                     [key], {});\n",
              "          if (!dataTable) return;\n",
              "\n",
              "          const docLinkHtml = 'Like what you see? Visit the ' +\n",
              "            '<a target=\"_blank\" href=https://colab.research.google.com/notebooks/data_table.ipynb>data table notebook</a>'\n",
              "            + ' to learn more about interactive tables.';\n",
              "          element.innerHTML = '';\n",
              "          dataTable['output_type'] = 'display_data';\n",
              "          await google.colab.output.renderOutput(dataTable, element);\n",
              "          const docLink = document.createElement('div');\n",
              "          docLink.innerHTML = docLinkHtml;\n",
              "          element.appendChild(docLink);\n",
              "        }\n",
              "      </script>\n",
              "    </div>\n",
              "  </div>\n",
              "  "
            ]
          },
          "metadata": {},
          "execution_count": 36
        }
      ]
    },
    {
      "cell_type": "code",
      "source": [
        "comparison_df.sort_values(by=['f1'], ascending=False)"
      ],
      "metadata": {
        "colab": {
          "base_uri": "https://localhost:8080/",
          "height": 645
        },
        "id": "iyL2pL7WgcQf",
        "outputId": "81a0410f-958d-4e8b-ef21-a32b2025d91f"
      },
      "execution_count": null,
      "outputs": [
        {
          "output_type": "execute_result",
          "data": {
            "text/plain": [
              "                                                    precision    recall  \\\n",
              "vectorizer_CountVectorizer_char_ng1_10               0.727433  0.720167   \n",
              "vectorizer_TfidfVectorizer_ng12                      0.723110  0.720556   \n",
              "vectorizer_TfidfVectorizer_ng12_maxdf05              0.723110  0.720556   \n",
              "vectorizer_CountVectorizer_ng12                      0.721927  0.719389   \n",
              "vectorizer_TfidfVectorizer_ng12_maxdf05_mindf5_...   0.726654  0.717833   \n",
              "vectorizer_TfidfVectorizer_ng12_maxdf05_mindf5       0.726327  0.717667   \n",
              "vectorizer_TfidfVectorizer_ng12_maxdf05_mindf5_...   0.726734  0.716889   \n",
              "vectorizer_TfidfVectorizer_ng12_maxdf01              0.721351  0.717889   \n",
              "vectorizer_CountVectorizer_ng13                      0.718108  0.717556   \n",
              "vectorizer_CountVectorizer_char_ng3_6                0.721762  0.710944   \n",
              "vectorizer_CountVectorizer_char_ng2_5                0.716150  0.703167   \n",
              "vectorizer_CountVectorizer_ng11                      0.709831  0.703167   \n",
              "vectorizer_TfidfVectorizer_ng11                      0.708238  0.700944   \n",
              "vectorizer_CountVectorizer_ng22                      0.692024  0.690667   \n",
              "vectorizer_CountVectorizer_ng23                      0.683873  0.685056   \n",
              "vectorizer_CountVectorizer_ng24                      0.681791  0.683500   \n",
              "vectorizer_TfidfVectorizer_ng12_maxdf05_mindf001     0.684455  0.672167   \n",
              "vectorizer_TfidfVectorizer_ng12_maxdf05_mindf00...   0.684455  0.672167   \n",
              "vectorizer_CountVectorizer_ng33                      0.614148  0.595056   \n",
              "\n",
              "                                                          f1  accuracy  \n",
              "vectorizer_CountVectorizer_char_ng1_10              0.721787  0.720167  \n",
              "vectorizer_TfidfVectorizer_ng12                     0.720519  0.720556  \n",
              "vectorizer_TfidfVectorizer_ng12_maxdf05             0.720519  0.720556  \n",
              "vectorizer_CountVectorizer_ng12                     0.719457  0.719389  \n",
              "vectorizer_TfidfVectorizer_ng12_maxdf05_mindf5_...  0.719155  0.717833  \n",
              "vectorizer_TfidfVectorizer_ng12_maxdf05_mindf5      0.718934  0.717667  \n",
              "vectorizer_TfidfVectorizer_ng12_maxdf05_mindf5_...  0.718433  0.716889  \n",
              "vectorizer_TfidfVectorizer_ng12_maxdf01             0.718026  0.717889  \n",
              "vectorizer_CountVectorizer_ng13                     0.717256  0.717556  \n",
              "vectorizer_CountVectorizer_char_ng3_6               0.712875  0.710944  \n",
              "vectorizer_CountVectorizer_char_ng2_5               0.705491  0.703167  \n",
              "vectorizer_CountVectorizer_ng11                     0.703724  0.703167  \n",
              "vectorizer_TfidfVectorizer_ng11                     0.701890  0.700944  \n",
              "vectorizer_CountVectorizer_ng22                     0.690765  0.690667  \n",
              "vectorizer_CountVectorizer_ng23                     0.684105  0.685056  \n",
              "vectorizer_CountVectorizer_ng24                     0.682318  0.683500  \n",
              "vectorizer_TfidfVectorizer_ng12_maxdf05_mindf001    0.674070  0.672167  \n",
              "vectorizer_TfidfVectorizer_ng12_maxdf05_mindf00...  0.674070  0.672167  \n",
              "vectorizer_CountVectorizer_ng33                     0.599782  0.595056  "
            ],
            "text/html": [
              "\n",
              "  <div id=\"df-adbf4217-8245-4593-bc41-14120021f25f\">\n",
              "    <div class=\"colab-df-container\">\n",
              "      <div>\n",
              "<style scoped>\n",
              "    .dataframe tbody tr th:only-of-type {\n",
              "        vertical-align: middle;\n",
              "    }\n",
              "\n",
              "    .dataframe tbody tr th {\n",
              "        vertical-align: top;\n",
              "    }\n",
              "\n",
              "    .dataframe thead th {\n",
              "        text-align: right;\n",
              "    }\n",
              "</style>\n",
              "<table border=\"1\" class=\"dataframe\">\n",
              "  <thead>\n",
              "    <tr style=\"text-align: right;\">\n",
              "      <th></th>\n",
              "      <th>precision</th>\n",
              "      <th>recall</th>\n",
              "      <th>f1</th>\n",
              "      <th>accuracy</th>\n",
              "    </tr>\n",
              "  </thead>\n",
              "  <tbody>\n",
              "    <tr>\n",
              "      <th>vectorizer_CountVectorizer_char_ng1_10</th>\n",
              "      <td>0.727433</td>\n",
              "      <td>0.720167</td>\n",
              "      <td>0.721787</td>\n",
              "      <td>0.720167</td>\n",
              "    </tr>\n",
              "    <tr>\n",
              "      <th>vectorizer_TfidfVectorizer_ng12</th>\n",
              "      <td>0.723110</td>\n",
              "      <td>0.720556</td>\n",
              "      <td>0.720519</td>\n",
              "      <td>0.720556</td>\n",
              "    </tr>\n",
              "    <tr>\n",
              "      <th>vectorizer_TfidfVectorizer_ng12_maxdf05</th>\n",
              "      <td>0.723110</td>\n",
              "      <td>0.720556</td>\n",
              "      <td>0.720519</td>\n",
              "      <td>0.720556</td>\n",
              "    </tr>\n",
              "    <tr>\n",
              "      <th>vectorizer_CountVectorizer_ng12</th>\n",
              "      <td>0.721927</td>\n",
              "      <td>0.719389</td>\n",
              "      <td>0.719457</td>\n",
              "      <td>0.719389</td>\n",
              "    </tr>\n",
              "    <tr>\n",
              "      <th>vectorizer_TfidfVectorizer_ng12_maxdf05_mindf5_maxf099</th>\n",
              "      <td>0.726654</td>\n",
              "      <td>0.717833</td>\n",
              "      <td>0.719155</td>\n",
              "      <td>0.717833</td>\n",
              "    </tr>\n",
              "    <tr>\n",
              "      <th>vectorizer_TfidfVectorizer_ng12_maxdf05_mindf5</th>\n",
              "      <td>0.726327</td>\n",
              "      <td>0.717667</td>\n",
              "      <td>0.718934</td>\n",
              "      <td>0.717667</td>\n",
              "    </tr>\n",
              "    <tr>\n",
              "      <th>vectorizer_TfidfVectorizer_ng12_maxdf05_mindf5_maxf2</th>\n",
              "      <td>0.726734</td>\n",
              "      <td>0.716889</td>\n",
              "      <td>0.718433</td>\n",
              "      <td>0.716889</td>\n",
              "    </tr>\n",
              "    <tr>\n",
              "      <th>vectorizer_TfidfVectorizer_ng12_maxdf01</th>\n",
              "      <td>0.721351</td>\n",
              "      <td>0.717889</td>\n",
              "      <td>0.718026</td>\n",
              "      <td>0.717889</td>\n",
              "    </tr>\n",
              "    <tr>\n",
              "      <th>vectorizer_CountVectorizer_ng13</th>\n",
              "      <td>0.718108</td>\n",
              "      <td>0.717556</td>\n",
              "      <td>0.717256</td>\n",
              "      <td>0.717556</td>\n",
              "    </tr>\n",
              "    <tr>\n",
              "      <th>vectorizer_CountVectorizer_char_ng3_6</th>\n",
              "      <td>0.721762</td>\n",
              "      <td>0.710944</td>\n",
              "      <td>0.712875</td>\n",
              "      <td>0.710944</td>\n",
              "    </tr>\n",
              "    <tr>\n",
              "      <th>vectorizer_CountVectorizer_char_ng2_5</th>\n",
              "      <td>0.716150</td>\n",
              "      <td>0.703167</td>\n",
              "      <td>0.705491</td>\n",
              "      <td>0.703167</td>\n",
              "    </tr>\n",
              "    <tr>\n",
              "      <th>vectorizer_CountVectorizer_ng11</th>\n",
              "      <td>0.709831</td>\n",
              "      <td>0.703167</td>\n",
              "      <td>0.703724</td>\n",
              "      <td>0.703167</td>\n",
              "    </tr>\n",
              "    <tr>\n",
              "      <th>vectorizer_TfidfVectorizer_ng11</th>\n",
              "      <td>0.708238</td>\n",
              "      <td>0.700944</td>\n",
              "      <td>0.701890</td>\n",
              "      <td>0.700944</td>\n",
              "    </tr>\n",
              "    <tr>\n",
              "      <th>vectorizer_CountVectorizer_ng22</th>\n",
              "      <td>0.692024</td>\n",
              "      <td>0.690667</td>\n",
              "      <td>0.690765</td>\n",
              "      <td>0.690667</td>\n",
              "    </tr>\n",
              "    <tr>\n",
              "      <th>vectorizer_CountVectorizer_ng23</th>\n",
              "      <td>0.683873</td>\n",
              "      <td>0.685056</td>\n",
              "      <td>0.684105</td>\n",
              "      <td>0.685056</td>\n",
              "    </tr>\n",
              "    <tr>\n",
              "      <th>vectorizer_CountVectorizer_ng24</th>\n",
              "      <td>0.681791</td>\n",
              "      <td>0.683500</td>\n",
              "      <td>0.682318</td>\n",
              "      <td>0.683500</td>\n",
              "    </tr>\n",
              "    <tr>\n",
              "      <th>vectorizer_TfidfVectorizer_ng12_maxdf05_mindf001</th>\n",
              "      <td>0.684455</td>\n",
              "      <td>0.672167</td>\n",
              "      <td>0.674070</td>\n",
              "      <td>0.672167</td>\n",
              "    </tr>\n",
              "    <tr>\n",
              "      <th>vectorizer_TfidfVectorizer_ng12_maxdf05_mindf001_maxf2</th>\n",
              "      <td>0.684455</td>\n",
              "      <td>0.672167</td>\n",
              "      <td>0.674070</td>\n",
              "      <td>0.672167</td>\n",
              "    </tr>\n",
              "    <tr>\n",
              "      <th>vectorizer_CountVectorizer_ng33</th>\n",
              "      <td>0.614148</td>\n",
              "      <td>0.595056</td>\n",
              "      <td>0.599782</td>\n",
              "      <td>0.595056</td>\n",
              "    </tr>\n",
              "  </tbody>\n",
              "</table>\n",
              "</div>\n",
              "      <button class=\"colab-df-convert\" onclick=\"convertToInteractive('df-adbf4217-8245-4593-bc41-14120021f25f')\"\n",
              "              title=\"Convert this dataframe to an interactive table.\"\n",
              "              style=\"display:none;\">\n",
              "        \n",
              "  <svg xmlns=\"http://www.w3.org/2000/svg\" height=\"24px\"viewBox=\"0 0 24 24\"\n",
              "       width=\"24px\">\n",
              "    <path d=\"M0 0h24v24H0V0z\" fill=\"none\"/>\n",
              "    <path d=\"M18.56 5.44l.94 2.06.94-2.06 2.06-.94-2.06-.94-.94-2.06-.94 2.06-2.06.94zm-11 1L8.5 8.5l.94-2.06 2.06-.94-2.06-.94L8.5 2.5l-.94 2.06-2.06.94zm10 10l.94 2.06.94-2.06 2.06-.94-2.06-.94-.94-2.06-.94 2.06-2.06.94z\"/><path d=\"M17.41 7.96l-1.37-1.37c-.4-.4-.92-.59-1.43-.59-.52 0-1.04.2-1.43.59L10.3 9.45l-7.72 7.72c-.78.78-.78 2.05 0 2.83L4 21.41c.39.39.9.59 1.41.59.51 0 1.02-.2 1.41-.59l7.78-7.78 2.81-2.81c.8-.78.8-2.07 0-2.86zM5.41 20L4 18.59l7.72-7.72 1.47 1.35L5.41 20z\"/>\n",
              "  </svg>\n",
              "      </button>\n",
              "      \n",
              "  <style>\n",
              "    .colab-df-container {\n",
              "      display:flex;\n",
              "      flex-wrap:wrap;\n",
              "      gap: 12px;\n",
              "    }\n",
              "\n",
              "    .colab-df-convert {\n",
              "      background-color: #E8F0FE;\n",
              "      border: none;\n",
              "      border-radius: 50%;\n",
              "      cursor: pointer;\n",
              "      display: none;\n",
              "      fill: #1967D2;\n",
              "      height: 32px;\n",
              "      padding: 0 0 0 0;\n",
              "      width: 32px;\n",
              "    }\n",
              "\n",
              "    .colab-df-convert:hover {\n",
              "      background-color: #E2EBFA;\n",
              "      box-shadow: 0px 1px 2px rgba(60, 64, 67, 0.3), 0px 1px 3px 1px rgba(60, 64, 67, 0.15);\n",
              "      fill: #174EA6;\n",
              "    }\n",
              "\n",
              "    [theme=dark] .colab-df-convert {\n",
              "      background-color: #3B4455;\n",
              "      fill: #D2E3FC;\n",
              "    }\n",
              "\n",
              "    [theme=dark] .colab-df-convert:hover {\n",
              "      background-color: #434B5C;\n",
              "      box-shadow: 0px 1px 3px 1px rgba(0, 0, 0, 0.15);\n",
              "      filter: drop-shadow(0px 1px 2px rgba(0, 0, 0, 0.3));\n",
              "      fill: #FFFFFF;\n",
              "    }\n",
              "  </style>\n",
              "\n",
              "      <script>\n",
              "        const buttonEl =\n",
              "          document.querySelector('#df-adbf4217-8245-4593-bc41-14120021f25f button.colab-df-convert');\n",
              "        buttonEl.style.display =\n",
              "          google.colab.kernel.accessAllowed ? 'block' : 'none';\n",
              "\n",
              "        async function convertToInteractive(key) {\n",
              "          const element = document.querySelector('#df-adbf4217-8245-4593-bc41-14120021f25f');\n",
              "          const dataTable =\n",
              "            await google.colab.kernel.invokeFunction('convertToInteractive',\n",
              "                                                     [key], {});\n",
              "          if (!dataTable) return;\n",
              "\n",
              "          const docLinkHtml = 'Like what you see? Visit the ' +\n",
              "            '<a target=\"_blank\" href=https://colab.research.google.com/notebooks/data_table.ipynb>data table notebook</a>'\n",
              "            + ' to learn more about interactive tables.';\n",
              "          element.innerHTML = '';\n",
              "          dataTable['output_type'] = 'display_data';\n",
              "          await google.colab.output.renderOutput(dataTable, element);\n",
              "          const docLink = document.createElement('div');\n",
              "          docLink.innerHTML = docLinkHtml;\n",
              "          element.appendChild(docLink);\n",
              "        }\n",
              "      </script>\n",
              "    </div>\n",
              "  </div>\n",
              "  "
            ]
          },
          "metadata": {},
          "execution_count": 37
        }
      ]
    },
    {
      "cell_type": "markdown",
      "source": [
        "#Вывод:\n",
        "Исходя из ранее плученных результатов, можно сказать, что лучше всего с поставленной задачей справился векторизатор Символьных n-грамм с параметрами ngram_range=(1, 10), исходя из значения метрик accuracy и f1. "
      ],
      "metadata": {
        "id": "LBIIElsNfvRD"
      }
    },
    {
      "cell_type": "markdown",
      "metadata": {
        "id": "5QYTwyMtWhAZ"
      },
      "source": [
        "## Задание 5.2 Регулярные выражения\n",
        "\n",
        "Регулярные выражения - способ поиска и анализа строк. Например, можно понять, какие даты в наборе строк представлены в формате DD/MM/YYYY, а какие - в других форматах. \n",
        "\n",
        "Или бывает, например, что перед работой с текстом, надо почистить его от своеобразного мусора: упоминаний пользователей, url и так далее.\n",
        "\n",
        "Навык полезный, давайте в нём тоже потренируемся.\n",
        "\n",
        "Для работы с регулярными выражениями есть библиотека **re**"
      ]
    },
    {
      "cell_type": "code",
      "metadata": {
        "id": "VaUW5S4gWhAb"
      },
      "source": [
        "import re"
      ],
      "execution_count": null,
      "outputs": []
    },
    {
      "cell_type": "markdown",
      "metadata": {
        "id": "D6aYh7Osl8xr"
      },
      "source": [
        "В регулярных выражениях, кроме привычных символов-букв, есть специальные символы:\n",
        "* **?а** - ноль или один символ **а**\n",
        "* **+а** - один или более символов **а**\n",
        "* **\\*а** - ноль или более символов **а** (не путать с +)\n",
        "* **.** - любое количество любого символа\n",
        "\n",
        "Пример:\n",
        "Выражению \\*a?b. соответствуют последовательности a, ab, abc, aa, aac НО НЕ abb!"
      ]
    },
    {
      "cell_type": "markdown",
      "metadata": {
        "id": "q7zOFFA3l_KQ"
      },
      "source": [
        "Рассмотрим подробно несколько наиболее полезных функций:"
      ]
    },
    {
      "cell_type": "markdown",
      "metadata": {
        "id": "DbJrUpARWhAd"
      },
      "source": [
        "### findall\n",
        "возвращает список всех найденных непересекающихся совпадений.\n",
        "\n",
        "Регулярное выражение **ab+c.**: \n",
        "* **a** - просто символ **a**\n",
        "* **b+** - один или более символов **b**\n",
        "* **c** - просто символ **c**\n",
        "* **.** - любой символ\n"
      ]
    },
    {
      "cell_type": "code",
      "metadata": {
        "id": "2athHzKuWhAd",
        "colab": {
          "base_uri": "https://localhost:8080/"
        },
        "outputId": "a4ded6ac-057f-4440-fca5-6b7053c1bca9"
      },
      "source": [
        "result = re.findall('ab+c.', 'abcdefghijkabcabcxabc') \n",
        "print(result)"
      ],
      "execution_count": null,
      "outputs": [
        {
          "output_type": "stream",
          "name": "stdout",
          "text": [
            "['abcd', 'abca']\n"
          ]
        }
      ]
    },
    {
      "cell_type": "markdown",
      "metadata": {
        "id": "A9FpIw5RWhAf"
      },
      "source": [
        "Вопрос на внимательность: почему нет abcx?"
      ]
    },
    {
      "cell_type": "markdown",
      "metadata": {
        "id": "B5ttzoxEWhAg"
      },
      "source": [
        "**Задание**: вернуть список первых двух букв каждого слова в строке, состоящей из нескольких слов."
      ]
    },
    {
      "cell_type": "code",
      "metadata": {
        "id": "7ZR2AEq3WhAg",
        "colab": {
          "base_uri": "https://localhost:8080/"
        },
        "outputId": "343b1512-5e9d-4d5b-b558-4bfcf2d8efee"
      },
      "source": [
        "find_test_txt = 'With the lights out, its less dangerous, Here we are now, entertain us'\n",
        "re.findall(r'\\b\\w{1,2}', find_test_txt) "
      ],
      "execution_count": null,
      "outputs": [
        {
          "output_type": "execute_result",
          "data": {
            "text/plain": [
              "['Wi', 'th', 'li', 'ou', 'it', 'le', 'da', 'He', 'we', 'ar', 'no', 'en', 'us']"
            ]
          },
          "metadata": {},
          "execution_count": 40
        }
      ]
    },
    {
      "cell_type": "markdown",
      "metadata": {
        "id": "MI18l-l9WhAk"
      },
      "source": [
        "### split\n",
        "разделяет строку по заданному шаблону\n"
      ]
    },
    {
      "cell_type": "code",
      "metadata": {
        "id": "sVKdRoc1WhAl",
        "colab": {
          "base_uri": "https://localhost:8080/"
        },
        "outputId": "774d742c-67d5-4b7a-aa0b-d03b4cdb807d"
      },
      "source": [
        "result = re.split(',', 'itsy, bitsy, teenie, weenie') \n",
        "print(result)"
      ],
      "execution_count": null,
      "outputs": [
        {
          "output_type": "stream",
          "name": "stdout",
          "text": [
            "['itsy', ' bitsy', ' teenie', ' weenie']\n"
          ]
        }
      ]
    },
    {
      "cell_type": "markdown",
      "metadata": {
        "id": "10u5efuSWhAm"
      },
      "source": [
        "можно указать максимальное количество разбиений"
      ]
    },
    {
      "cell_type": "code",
      "metadata": {
        "id": "9U9EQZMwWhAn",
        "colab": {
          "base_uri": "https://localhost:8080/"
        },
        "outputId": "2cb81f8f-aa47-4194-d3e5-7cdc9e1f10e3"
      },
      "source": [
        "result = re.split(',', 'itsy, bitsy, teenie, weenie', maxsplit=2) \n",
        "print(result)"
      ],
      "execution_count": null,
      "outputs": [
        {
          "output_type": "stream",
          "name": "stdout",
          "text": [
            "['itsy', ' bitsy', ' teenie, weenie']\n"
          ]
        }
      ]
    },
    {
      "cell_type": "markdown",
      "metadata": {
        "id": "0EMcMyflWhAp"
      },
      "source": [
        "**Задание**: разбейте строку, состоящую из нескольких предложений, по точкам, но не более чем на 3 предложения."
      ]
    },
    {
      "cell_type": "code",
      "metadata": {
        "id": "dVgPSjEOWhAp",
        "colab": {
          "base_uri": "https://localhost:8080/"
        },
        "outputId": "48fc6e7d-1fcb-4a54-d47c-435e66e73497"
      },
      "source": [
        "split_test_txt1 = 'Im on. the highway. to hell.On the highway. to hell'\n",
        "print(re.split('[.]', split_test_txt1, maxsplit=2))\n",
        "\n",
        "split_test_txt2 = 'So close, no matter how far. Couldnt be much more from the heart. Forever trusting who we are. And nothing else matters'\n",
        "print(re.split('[.]', split_test_txt2, maxsplit=2))"
      ],
      "execution_count": null,
      "outputs": [
        {
          "output_type": "stream",
          "name": "stdout",
          "text": [
            "['Im on', ' the highway', ' to hell.On the highway. to hell']\n",
            "['So close, no matter how far', ' Couldnt be much more from the heart', ' Forever trusting who we are. And nothing else matters']\n"
          ]
        }
      ]
    },
    {
      "cell_type": "markdown",
      "metadata": {
        "id": "1wrEGqBSWhAr"
      },
      "source": [
        "### sub\n",
        "ищет шаблон в строке и заменяет все совпадения на указанную подстроку\n",
        "\n",
        "параметры: (pattern, repl, string)"
      ]
    },
    {
      "cell_type": "code",
      "metadata": {
        "id": "az3KxKWwWhAr",
        "colab": {
          "base_uri": "https://localhost:8080/"
        },
        "outputId": "7840083f-b3e4-4fa3-904d-220ef5e3b4f3"
      },
      "source": [
        "result = re.sub('a', 'b', 'abcabc')\n",
        "print (result)"
      ],
      "execution_count": null,
      "outputs": [
        {
          "output_type": "stream",
          "name": "stdout",
          "text": [
            "bbcbbc\n"
          ]
        }
      ]
    },
    {
      "cell_type": "markdown",
      "metadata": {
        "id": "qD0n7_HPWhAt"
      },
      "source": [
        "**Задание**: напишите регулярное выражение, которое позволит заменить все цифры в строке на \"DIG\"."
      ]
    },
    {
      "cell_type": "code",
      "metadata": {
        "id": "s_Sdu7xlWhAu",
        "colab": {
          "base_uri": "https://localhost:8080/",
          "height": 36
        },
        "outputId": "5a4a7c5a-a73e-419d-8b63-67739ff5e507"
      },
      "source": [
        "text = \"This is 10 percent luck, 20 percent skill, 15 percent concentrated power of will, 5 percent pleasure, 15 percent pain, And a 100 percent reason to remember the name \"\n",
        "re.sub(r\"\\d\", \"DIG\", text)"
      ],
      "execution_count": null,
      "outputs": [
        {
          "output_type": "execute_result",
          "data": {
            "text/plain": [
              "'This is DIGDIG percent luck, DIGDIG percent skill, DIGDIG percent concentrated power of will, DIG percent pleasure, DIGDIG percent pain, And a DIGDIGDIG percent reason to remember the name '"
            ],
            "application/vnd.google.colaboratory.intrinsic+json": {
              "type": "string"
            }
          },
          "metadata": {},
          "execution_count": 45
        }
      ]
    },
    {
      "cell_type": "markdown",
      "metadata": {
        "id": "b8__oi1PWhAv"
      },
      "source": [
        "**Задание**: напишите  регулярное выражение, которое позволит убрать url из строки."
      ]
    },
    {
      "cell_type": "code",
      "metadata": {
        "id": "KwNS9zt4WhAv",
        "colab": {
          "base_uri": "https://localhost:8080/"
        },
        "outputId": "54c9e210-062a-47d3-a1d6-8400bafa17cf"
      },
      "source": [
        "text2 = 'Forever trusting who we are https://www.amalgama-lab.com/songs/m/metallica/nothing_else_matters.html And nothing else matters'\n",
        "print(text2)\n",
        "print(re.sub('http\\S+', '', text2))"
      ],
      "execution_count": null,
      "outputs": [
        {
          "output_type": "stream",
          "name": "stdout",
          "text": [
            "Forever trusting who we are https://www.amalgama-lab.com/songs/m/metallica/nothing_else_matters.html And nothing else matters\n",
            "Forever trusting who we are  And nothing else matters\n"
          ]
        }
      ]
    },
    {
      "cell_type": "markdown",
      "metadata": {
        "id": "gStgBJy2WhAx"
      },
      "source": [
        "### compile\n",
        "компилирует регулярное выражение в отдельный объект"
      ]
    },
    {
      "cell_type": "code",
      "metadata": {
        "id": "JstTupisWhAy",
        "colab": {
          "base_uri": "https://localhost:8080/"
        },
        "outputId": "2b58dab8-76e8-4318-cac9-c96ba8404296"
      },
      "source": [
        "# Пример: построение списка всех слов строки:\n",
        "prog = re.compile('[А-Яа-яё\\-]+')\n",
        "prog.findall(\"Слова? Да, больше, ещё больше слов! Что-то ещё.\")"
      ],
      "execution_count": null,
      "outputs": [
        {
          "output_type": "execute_result",
          "data": {
            "text/plain": [
              "['Слова', 'Да', 'больше', 'ещё', 'больше', 'слов', 'Что-то', 'ещё']"
            ]
          },
          "metadata": {},
          "execution_count": 47
        }
      ]
    },
    {
      "cell_type": "markdown",
      "metadata": {
        "id": "WXEXc3G0WhA2"
      },
      "source": [
        "**Задание**: для выбранной строки постройте список слов, которые длиннее трех символов."
      ]
    },
    {
      "cell_type": "code",
      "metadata": {
        "id": "nFvnIWbUWhA2",
        "colab": {
          "base_uri": "https://localhost:8080/"
        },
        "outputId": "9876a5a4-1d98-4b52-95c8-ef51fbbc5dfe"
      },
      "source": [
        "pattern1 = re.compile('[А-Яа-яё\\-]{4,}')\n",
        "pattern1.findall(\"Слова? Да, больше, ещё больше слов! Что-то ещё.\")"
      ],
      "execution_count": null,
      "outputs": [
        {
          "output_type": "execute_result",
          "data": {
            "text/plain": [
              "['Слова', 'больше', 'больше', 'слов', 'Что-то']"
            ]
          },
          "metadata": {},
          "execution_count": 48
        }
      ]
    },
    {
      "cell_type": "markdown",
      "metadata": {
        "id": "SQDNZ3HQWhA3"
      },
      "source": [
        "**Задание**: вернуть список доменов (@gmail.com) из списка адресов электронной почты:\n",
        "\n",
        "```\n",
        "abc.test@gmail.com, xyz@test.in, test.first@analyticsvidhya.com, first.test@rest.biz\n",
        "```"
      ]
    },
    {
      "cell_type": "code",
      "source": [
        "pattern2 = re.compile('\\S+@gmail.com')\n",
        "pattern2.findall(\"abc.test@gmail.com, xyz@test.in, test.first@analyticsvidhya.com, first.test@rest.biz\")"
      ],
      "metadata": {
        "colab": {
          "base_uri": "https://localhost:8080/"
        },
        "id": "dXDjPHVvLWt3",
        "outputId": "887bd1c4-82d1-408c-9b2e-dda0a095790e"
      },
      "execution_count": null,
      "outputs": [
        {
          "output_type": "execute_result",
          "data": {
            "text/plain": [
              "['abc.test@gmail.com']"
            ]
          },
          "metadata": {},
          "execution_count": 49
        }
      ]
    }
  ]
}